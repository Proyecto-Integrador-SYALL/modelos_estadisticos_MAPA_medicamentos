{
 "cells": [
  {
   "cell_type": "markdown",
   "metadata": {
    "colab_type": "text",
    "id": "MLS2Io6sL_JU"
   },
   "source": [
    "# Regresión Logística\n",
    "\n",
    "\n",
    "## Introducción\n",
    "\n",
    "La regresión logística es un tipo de análisis utilizado para predecir el resultado de una variable categórica en función de las variables independientes o predictoras. Es útil para modelar la probabilidad de ocurrencia de un evento en función de otros factores. El análisis de regresión logística se enmarca en el conjunto de Modelos Lineales Generalizados que usa como función de enlace la función logit.\n",
    "\n",
    "La regresión logística analiza datos que siguen una distribución binaria, es decir,\n",
    "\n",
    "$$Y_{i}\\sim B(p_{i},n_{i}) \\text{ para }i=1,\\dots ,m$$\n",
    "\n",
    "donde el número de ensayos $n_i$ es conocido y las probabilidades de éxito $p_i$ son desconocidas. \n",
    "\n",
    "El modelo es construido con base en lo que cada ensayo (valor de i) y el conjunto de variables independientes puedan informar acerca de la probabilidad final. Estas variables explicativas pueden pensarse como un vector $X_i$ $k-dimensional$ y el modelo toma entonces la forma:\n",
    "\n",
    "$$ p_{i}=\\operatorname {E} \\left(\\frac{Y_{i}}{n_{i}} \\mid X_{i}\\right) $$\n",
    "\n",
    "Los logits de las probabilidades binomiales desconocidas son modeladas como una función lineal de los $X_i$.\n",
    "\n",
    "$$ \\operatorname {logit} (p_{i})=\\ln \\left({\\frac {p_{i}}{1-p_{i}}}\\right)=\\beta _{0}+\\beta _{1}x_{1,i}+\\cdots +\\beta _{k}x_{k,i}$$\n",
    "\n",
    "Note que un elemento particular de $X_i$ puede ser ajustado a 1 para todo i obteniéndose una constante independiente en el modelo. Los parámetros desconocidos $β_j$ son usualmente estimados a través de máxima verosimilitud.\n",
    "\n",
    "Los $β_j$ estimados son interpretados como efectos aditivos en el logaritmo de la razón de momios para cada unidad de cambio en la jésima variable explicativa. En el caso de una variable explicativa dicotómica, $e^{\\beta}$ es la estimación de la razón de momios (odds ratio). \n",
    "\n",
    "$$p_{i}=\\frac{1}{1+e^{-(\\beta _{0}+\\beta _{1}x_{1,i}+\\cdots +\\beta x_{k}x_{k,i})}}$$\n",
    "\n",
    "Esta forma funcional es comúnmente identificada como un \"perceptrón\" de una capa simple o red neuronal artificial de una sola capa. Una red neuronal de una sola capa calcula una salida continua en lugar de una función definida a trozos. La derivada de $p_i$ con respecto a $X = x_1...x_k$ es calculada de la forma general:\n",
    "\n",
    "$$y={\\frac {1}{1+e^{-f(X)}}}$$\n",
    "\n",
    "donde $f(X)$ es una función analítica en $X$. Con esta elección, la red de capa simple es idéntica al modelo de regresión logística. Esta función tiene una derivada continua, la cual permite ser usada en propagación hacia atrás. Esta función también es preferida ya que su derivada es fácil de calcular: \n",
    "\n",
    "$$y'=y (1-y){\\frac {\\mathrm {d} f}{\\mathrm {d} X}}$$"
   ]
  },
  {
   "cell_type": "code",
   "execution_count": 1,
   "metadata": {},
   "outputs": [],
   "source": [
    "%matplotlib inline\n",
    "\n",
    "import numpy as np\n",
    "import pandas as pd\n",
    "import seaborn as sns\n",
    "import matplotlib.pyplot as plt\n",
    "\n",
    "sns.set()"
   ]
  },
  {
   "cell_type": "code",
   "execution_count": 2,
   "metadata": {
    "colab": {
     "base_uri": "https://localhost:8080/",
     "height": 224
    },
    "colab_type": "code",
    "executionInfo": {
     "elapsed": 841,
     "status": "ok",
     "timestamp": 1592971185394,
     "user": {
      "displayName": "Leidy Marcela Castaneda Bedoya",
      "photoUrl": "https://lh3.googleusercontent.com/a-/AOh14Ghc5RV2rOBh2inkbUz5qC3niJdJJUBiwnXQQMRH=s64",
      "userId": "01251257951223077810"
     },
     "user_tz": 300
    },
    "id": "sBfBRH5wdenw",
    "outputId": "a62545d3-25c8-41c2-efb0-bff0b8d57fbf"
   },
   "outputs": [
    {
     "data": {
      "text/html": [
       "<div>\n",
       "<style scoped>\n",
       "    .dataframe tbody tr th:only-of-type {\n",
       "        vertical-align: middle;\n",
       "    }\n",
       "\n",
       "    .dataframe tbody tr th {\n",
       "        vertical-align: top;\n",
       "    }\n",
       "\n",
       "    .dataframe thead th {\n",
       "        text-align: right;\n",
       "    }\n",
       "</style>\n",
       "<table border=\"1\" class=\"dataframe\">\n",
       "  <thead>\n",
       "    <tr style=\"text-align: right;\">\n",
       "      <th></th>\n",
       "      <th>treatment</th>\n",
       "      <th>birth_date</th>\n",
       "      <th>start_date</th>\n",
       "      <th>start_night</th>\n",
       "      <th>end_night</th>\n",
       "      <th>gender</th>\n",
       "      <th>height</th>\n",
       "      <th>weight</th>\n",
       "      <th>age</th>\n",
       "      <th>smoking</th>\n",
       "      <th>...</th>\n",
       "      <th>beer</th>\n",
       "      <th>wine</th>\n",
       "      <th>alcohol</th>\n",
       "      <th>strong_licor</th>\n",
       "      <th>sistolic</th>\n",
       "      <th>diastolic</th>\n",
       "      <th>heart_rate</th>\n",
       "      <th>pulse_pressure</th>\n",
       "      <th>cardiac_index</th>\n",
       "      <th>systemic_vascular_resistance</th>\n",
       "    </tr>\n",
       "    <tr>\n",
       "      <th>patient_id</th>\n",
       "      <th></th>\n",
       "      <th></th>\n",
       "      <th></th>\n",
       "      <th></th>\n",
       "      <th></th>\n",
       "      <th></th>\n",
       "      <th></th>\n",
       "      <th></th>\n",
       "      <th></th>\n",
       "      <th></th>\n",
       "      <th></th>\n",
       "      <th></th>\n",
       "      <th></th>\n",
       "      <th></th>\n",
       "      <th></th>\n",
       "      <th></th>\n",
       "      <th></th>\n",
       "      <th></th>\n",
       "      <th></th>\n",
       "      <th></th>\n",
       "      <th></th>\n",
       "    </tr>\n",
       "  </thead>\n",
       "  <tbody>\n",
       "    <tr>\n",
       "      <th>30</th>\n",
       "      <td>True</td>\n",
       "      <td>1983-12-25 00:00:00</td>\n",
       "      <td>2017-11-01 07:02:00</td>\n",
       "      <td>2017-10-27 04:30:00</td>\n",
       "      <td>2017-10-27 06:30:00</td>\n",
       "      <td>m</td>\n",
       "      <td>1.78</td>\n",
       "      <td>102.0</td>\n",
       "      <td>33.854327</td>\n",
       "      <td>0</td>\n",
       "      <td>...</td>\n",
       "      <td>0</td>\n",
       "      <td>0</td>\n",
       "      <td>1</td>\n",
       "      <td>0</td>\n",
       "      <td>120.457143</td>\n",
       "      <td>79.957143</td>\n",
       "      <td>72.685714</td>\n",
       "      <td>41.0</td>\n",
       "      <td>2.3</td>\n",
       "      <td>1158.0</td>\n",
       "    </tr>\n",
       "    <tr>\n",
       "      <th>31</th>\n",
       "      <td>False</td>\n",
       "      <td>1946-10-09 00:00:00</td>\n",
       "      <td>2017-11-01 08:40:00</td>\n",
       "      <td>2017-11-02 02:00:00</td>\n",
       "      <td>2017-11-02 04:00:00</td>\n",
       "      <td>m</td>\n",
       "      <td>1.67</td>\n",
       "      <td>82.4</td>\n",
       "      <td>71.064644</td>\n",
       "      <td>0</td>\n",
       "      <td>...</td>\n",
       "      <td>0</td>\n",
       "      <td>0</td>\n",
       "      <td>1</td>\n",
       "      <td>0</td>\n",
       "      <td>143.405405</td>\n",
       "      <td>91.067568</td>\n",
       "      <td>65.500000</td>\n",
       "      <td>52.0</td>\n",
       "      <td>2.8</td>\n",
       "      <td>1417.0</td>\n",
       "    </tr>\n",
       "    <tr>\n",
       "      <th>32</th>\n",
       "      <td>True</td>\n",
       "      <td>1960-02-14 00:00:00</td>\n",
       "      <td>2017-11-01 09:57:00</td>\n",
       "      <td>2017-11-02 03:00:00</td>\n",
       "      <td>2017-11-02 05:00:00</td>\n",
       "      <td>m</td>\n",
       "      <td>1.70</td>\n",
       "      <td>93.2</td>\n",
       "      <td>57.715030</td>\n",
       "      <td>0</td>\n",
       "      <td>...</td>\n",
       "      <td>0</td>\n",
       "      <td>1</td>\n",
       "      <td>1</td>\n",
       "      <td>0</td>\n",
       "      <td>122.557143</td>\n",
       "      <td>90.257143</td>\n",
       "      <td>80.628571</td>\n",
       "      <td>32.0</td>\n",
       "      <td>3.0</td>\n",
       "      <td>1319.0</td>\n",
       "    </tr>\n",
       "    <tr>\n",
       "      <th>33</th>\n",
       "      <td>False</td>\n",
       "      <td>1974-03-11 00:00:00</td>\n",
       "      <td>2017-11-01 10:17:00</td>\n",
       "      <td>2017-11-02 03:20:00</td>\n",
       "      <td>2017-11-02 05:20:00</td>\n",
       "      <td>f</td>\n",
       "      <td>1.60</td>\n",
       "      <td>61.3</td>\n",
       "      <td>43.645252</td>\n",
       "      <td>0</td>\n",
       "      <td>...</td>\n",
       "      <td>0</td>\n",
       "      <td>0</td>\n",
       "      <td>0</td>\n",
       "      <td>0</td>\n",
       "      <td>145.893939</td>\n",
       "      <td>93.863636</td>\n",
       "      <td>79.787879</td>\n",
       "      <td>52.0</td>\n",
       "      <td>4.2</td>\n",
       "      <td>1353.0</td>\n",
       "    </tr>\n",
       "    <tr>\n",
       "      <th>34</th>\n",
       "      <td>True</td>\n",
       "      <td>1996-06-26 00:00:00</td>\n",
       "      <td>2017-11-01 10:36:00</td>\n",
       "      <td>2017-11-02 04:30:00</td>\n",
       "      <td>2017-11-02 06:30:00</td>\n",
       "      <td>m</td>\n",
       "      <td>1.73</td>\n",
       "      <td>72.3</td>\n",
       "      <td>21.350970</td>\n",
       "      <td>0</td>\n",
       "      <td>...</td>\n",
       "      <td>1</td>\n",
       "      <td>0</td>\n",
       "      <td>1</td>\n",
       "      <td>0</td>\n",
       "      <td>130.376812</td>\n",
       "      <td>82.739130</td>\n",
       "      <td>77.913043</td>\n",
       "      <td>48.0</td>\n",
       "      <td>3.2</td>\n",
       "      <td>1172.0</td>\n",
       "    </tr>\n",
       "  </tbody>\n",
       "</table>\n",
       "<p>5 rows × 21 columns</p>\n",
       "</div>"
      ],
      "text/plain": [
       "            treatment           birth_date           start_date  \\\n",
       "patient_id                                                        \n",
       "30               True  1983-12-25 00:00:00  2017-11-01 07:02:00   \n",
       "31              False  1946-10-09 00:00:00  2017-11-01 08:40:00   \n",
       "32               True  1960-02-14 00:00:00  2017-11-01 09:57:00   \n",
       "33              False  1974-03-11 00:00:00  2017-11-01 10:17:00   \n",
       "34               True  1996-06-26 00:00:00  2017-11-01 10:36:00   \n",
       "\n",
       "                    start_night            end_night gender  height  weight  \\\n",
       "patient_id                                                                    \n",
       "30          2017-10-27 04:30:00  2017-10-27 06:30:00      m    1.78   102.0   \n",
       "31          2017-11-02 02:00:00  2017-11-02 04:00:00      m    1.67    82.4   \n",
       "32          2017-11-02 03:00:00  2017-11-02 05:00:00      m    1.70    93.2   \n",
       "33          2017-11-02 03:20:00  2017-11-02 05:20:00      f    1.60    61.3   \n",
       "34          2017-11-02 04:30:00  2017-11-02 06:30:00      m    1.73    72.3   \n",
       "\n",
       "                  age  smoking  ...  beer  wine  alcohol  strong_licor  \\\n",
       "patient_id                      ...                                      \n",
       "30          33.854327        0  ...     0     0        1             0   \n",
       "31          71.064644        0  ...     0     0        1             0   \n",
       "32          57.715030        0  ...     0     1        1             0   \n",
       "33          43.645252        0  ...     0     0        0             0   \n",
       "34          21.350970        0  ...     1     0        1             0   \n",
       "\n",
       "              sistolic  diastolic  heart_rate  pulse_pressure  cardiac_index  \\\n",
       "patient_id                                                                     \n",
       "30          120.457143  79.957143   72.685714            41.0            2.3   \n",
       "31          143.405405  91.067568   65.500000            52.0            2.8   \n",
       "32          122.557143  90.257143   80.628571            32.0            3.0   \n",
       "33          145.893939  93.863636   79.787879            52.0            4.2   \n",
       "34          130.376812  82.739130   77.913043            48.0            3.2   \n",
       "\n",
       "            systemic_vascular_resistance  \n",
       "patient_id                                \n",
       "30                                1158.0  \n",
       "31                                1417.0  \n",
       "32                                1319.0  \n",
       "33                                1353.0  \n",
       "34                                1172.0  \n",
       "\n",
       "[5 rows x 21 columns]"
      ]
     },
     "execution_count": 2,
     "metadata": {},
     "output_type": "execute_result"
    }
   ],
   "source": [
    "#Lectura de datos\n",
    "datos= pd.read_csv('data/filtered1_dataset.csv', sep=',', index_col=\"patient_id\")\n",
    "datos.head()"
   ]
  },
  {
   "cell_type": "code",
   "execution_count": 3,
   "metadata": {},
   "outputs": [
    {
     "data": {
      "text/plain": [
       "patient_id\n",
       "30     True\n",
       "31    False\n",
       "32     True\n",
       "33    False\n",
       "34     True\n",
       "Name: treatment, dtype: bool"
      ]
     },
     "execution_count": 3,
     "metadata": {},
     "output_type": "execute_result"
    }
   ],
   "source": [
    "# Extraemos la variable respuesta \"treatment\"\n",
    "y = datos[\"treatment\"]\n",
    "y.head()"
   ]
  },
  {
   "cell_type": "code",
   "execution_count": 4,
   "metadata": {
    "colab": {
     "base_uri": "https://localhost:8080/",
     "height": 34
    },
    "colab_type": "code",
    "id": "WlyeDQFIL_JY",
    "outputId": "59b0c962-6c39-4a84-a0b0-d0c2c6037593"
   },
   "outputs": [
    {
     "data": {
      "text/plain": [
       "(17644,)"
      ]
     },
     "execution_count": 4,
     "metadata": {},
     "output_type": "execute_result"
    }
   ],
   "source": [
    "np.shape(y)"
   ]
  },
  {
   "cell_type": "markdown",
   "metadata": {},
   "source": [
    "A continuación se presenta la frecuencia por categoría para la variable **treatment** (True - False)"
   ]
  },
  {
   "cell_type": "code",
   "execution_count": 5,
   "metadata": {},
   "outputs": [
    {
     "name": "stderr",
     "output_type": "stream",
     "text": [
      "/Users/lescobar/.anaconda/lib/python3.7/site-packages/seaborn/categorical.py:3666: UserWarning: The `factorplot` function has been renamed to `catplot`. The original name will be removed in a future release. Please update your code. Note that the default `kind` in `factorplot` (`'point'`) has changed `'strip'` in `catplot`.\n",
      "  warnings.warn(msg)\n"
     ]
    },
    {
     "data": {
      "text/plain": [
       "treatment\n",
       "False    9429\n",
       "True     8215\n",
       "dtype: int64"
      ]
     },
     "execution_count": 5,
     "metadata": {},
     "output_type": "execute_result"
    },
    {
     "data": {
      "image/png": "[encoded data removed]",
      "text/plain": [
       "<Figure size 360x360 with 1 Axes>"
      ]
     },
     "metadata": {},
     "output_type": "display_data"
    }
   ],
   "source": [
    "sns.factorplot('treatment',data=datos,kind=\"count\")\n",
    "datos.groupby('treatment').size()"
   ]
  },
  {
   "cell_type": "markdown",
   "metadata": {},
   "source": [
    "Se observa que el 51% de la población no tiene tratamiento (False) y el 49% si tiene tratamiento (True). Como nos encontramos frente a un conjunto de datos balanceados se procede a ajustar el modelo sin realizar proceso de balanceo sobre la base, pues no incurririamos en sesgos en la estimación."
   ]
  },
  {
   "cell_type": "code",
   "execution_count": 6,
   "metadata": {},
   "outputs": [
    {
     "data": {
      "text/html": [
       "<div>\n",
       "<style scoped>\n",
       "    .dataframe tbody tr th:only-of-type {\n",
       "        vertical-align: middle;\n",
       "    }\n",
       "\n",
       "    .dataframe tbody tr th {\n",
       "        vertical-align: top;\n",
       "    }\n",
       "\n",
       "    .dataframe thead th {\n",
       "        text-align: right;\n",
       "    }\n",
       "</style>\n",
       "<table border=\"1\" class=\"dataframe\">\n",
       "  <thead>\n",
       "    <tr style=\"text-align: right;\">\n",
       "      <th></th>\n",
       "      <th>height</th>\n",
       "      <th>weight</th>\n",
       "      <th>age</th>\n",
       "      <th>smoking</th>\n",
       "      <th>excercise_frecuency</th>\n",
       "      <th>beer</th>\n",
       "      <th>wine</th>\n",
       "      <th>alcohol</th>\n",
       "      <th>strong_licor</th>\n",
       "      <th>sistolic</th>\n",
       "      <th>diastolic</th>\n",
       "      <th>heart_rate</th>\n",
       "      <th>pulse_pressure</th>\n",
       "      <th>cardiac_index</th>\n",
       "      <th>systemic_vascular_resistance</th>\n",
       "    </tr>\n",
       "    <tr>\n",
       "      <th>patient_id</th>\n",
       "      <th></th>\n",
       "      <th></th>\n",
       "      <th></th>\n",
       "      <th></th>\n",
       "      <th></th>\n",
       "      <th></th>\n",
       "      <th></th>\n",
       "      <th></th>\n",
       "      <th></th>\n",
       "      <th></th>\n",
       "      <th></th>\n",
       "      <th></th>\n",
       "      <th></th>\n",
       "      <th></th>\n",
       "      <th></th>\n",
       "    </tr>\n",
       "  </thead>\n",
       "  <tbody>\n",
       "    <tr>\n",
       "      <th>30</th>\n",
       "      <td>1.78</td>\n",
       "      <td>102.0</td>\n",
       "      <td>33.854327</td>\n",
       "      <td>0</td>\n",
       "      <td>5</td>\n",
       "      <td>0</td>\n",
       "      <td>0</td>\n",
       "      <td>1</td>\n",
       "      <td>0</td>\n",
       "      <td>120.457143</td>\n",
       "      <td>79.957143</td>\n",
       "      <td>72.685714</td>\n",
       "      <td>41.0</td>\n",
       "      <td>2.3</td>\n",
       "      <td>1158.0</td>\n",
       "    </tr>\n",
       "    <tr>\n",
       "      <th>31</th>\n",
       "      <td>1.67</td>\n",
       "      <td>82.4</td>\n",
       "      <td>71.064644</td>\n",
       "      <td>0</td>\n",
       "      <td>2</td>\n",
       "      <td>0</td>\n",
       "      <td>0</td>\n",
       "      <td>1</td>\n",
       "      <td>0</td>\n",
       "      <td>143.405405</td>\n",
       "      <td>91.067568</td>\n",
       "      <td>65.500000</td>\n",
       "      <td>52.0</td>\n",
       "      <td>2.8</td>\n",
       "      <td>1417.0</td>\n",
       "    </tr>\n",
       "    <tr>\n",
       "      <th>32</th>\n",
       "      <td>1.70</td>\n",
       "      <td>93.2</td>\n",
       "      <td>57.715030</td>\n",
       "      <td>0</td>\n",
       "      <td>1</td>\n",
       "      <td>0</td>\n",
       "      <td>1</td>\n",
       "      <td>1</td>\n",
       "      <td>0</td>\n",
       "      <td>122.557143</td>\n",
       "      <td>90.257143</td>\n",
       "      <td>80.628571</td>\n",
       "      <td>32.0</td>\n",
       "      <td>3.0</td>\n",
       "      <td>1319.0</td>\n",
       "    </tr>\n",
       "    <tr>\n",
       "      <th>33</th>\n",
       "      <td>1.60</td>\n",
       "      <td>61.3</td>\n",
       "      <td>43.645252</td>\n",
       "      <td>0</td>\n",
       "      <td>1</td>\n",
       "      <td>0</td>\n",
       "      <td>0</td>\n",
       "      <td>0</td>\n",
       "      <td>0</td>\n",
       "      <td>145.893939</td>\n",
       "      <td>93.863636</td>\n",
       "      <td>79.787879</td>\n",
       "      <td>52.0</td>\n",
       "      <td>4.2</td>\n",
       "      <td>1353.0</td>\n",
       "    </tr>\n",
       "    <tr>\n",
       "      <th>34</th>\n",
       "      <td>1.73</td>\n",
       "      <td>72.3</td>\n",
       "      <td>21.350970</td>\n",
       "      <td>0</td>\n",
       "      <td>1</td>\n",
       "      <td>1</td>\n",
       "      <td>0</td>\n",
       "      <td>1</td>\n",
       "      <td>0</td>\n",
       "      <td>130.376812</td>\n",
       "      <td>82.739130</td>\n",
       "      <td>77.913043</td>\n",
       "      <td>48.0</td>\n",
       "      <td>3.2</td>\n",
       "      <td>1172.0</td>\n",
       "    </tr>\n",
       "  </tbody>\n",
       "</table>\n",
       "</div>"
      ],
      "text/plain": [
       "            height  weight        age  smoking  excercise_frecuency  beer  \\\n",
       "patient_id                                                                  \n",
       "30            1.78   102.0  33.854327        0                    5     0   \n",
       "31            1.67    82.4  71.064644        0                    2     0   \n",
       "32            1.70    93.2  57.715030        0                    1     0   \n",
       "33            1.60    61.3  43.645252        0                    1     0   \n",
       "34            1.73    72.3  21.350970        0                    1     1   \n",
       "\n",
       "            wine  alcohol  strong_licor    sistolic  diastolic  heart_rate  \\\n",
       "patient_id                                                                   \n",
       "30             0        1             0  120.457143  79.957143   72.685714   \n",
       "31             0        1             0  143.405405  91.067568   65.500000   \n",
       "32             1        1             0  122.557143  90.257143   80.628571   \n",
       "33             0        0             0  145.893939  93.863636   79.787879   \n",
       "34             0        1             0  130.376812  82.739130   77.913043   \n",
       "\n",
       "            pulse_pressure  cardiac_index  systemic_vascular_resistance  \n",
       "patient_id                                                               \n",
       "30                    41.0            2.3                        1158.0  \n",
       "31                    52.0            2.8                        1417.0  \n",
       "32                    32.0            3.0                        1319.0  \n",
       "33                    52.0            4.2                        1353.0  \n",
       "34                    48.0            3.2                        1172.0  "
      ]
     },
     "execution_count": 6,
     "metadata": {},
     "output_type": "execute_result"
    }
   ],
   "source": [
    "# Extraer las variables independientes \n",
    "X = datos.iloc[:,6:]\n",
    "X.head()"
   ]
  },
  {
   "cell_type": "code",
   "execution_count": 7,
   "metadata": {
    "colab": {
     "base_uri": "https://localhost:8080/",
     "height": 34
    },
    "colab_type": "code",
    "executionInfo": {
     "elapsed": 757,
     "status": "ok",
     "timestamp": 1592971185402,
     "user": {
      "displayName": "Leidy Marcela Castaneda Bedoya",
      "photoUrl": "https://lh3.googleusercontent.com/a-/AOh14Ghc5RV2rOBh2inkbUz5qC3niJdJJUBiwnXQQMRH=s64",
      "userId": "01251257951223077810"
     },
     "user_tz": 300
    },
    "id": "pD6J13J4deqH",
    "outputId": "f73c356d-191e-4011-97b9-c9343703929a",
    "scrolled": true
   },
   "outputs": [
    {
     "data": {
      "text/plain": [
       "(17644, 15)"
      ]
     },
     "execution_count": 7,
     "metadata": {},
     "output_type": "execute_result"
    }
   ],
   "source": [
    "np.shape(X)"
   ]
  },
  {
   "cell_type": "markdown",
   "metadata": {},
   "source": [
    "Dividimos el conjunto de datos en dos partes, 80% para entrenar el modelo y el 20% para probarlo."
   ]
  },
  {
   "cell_type": "code",
   "execution_count": 8,
   "metadata": {},
   "outputs": [],
   "source": [
    "# Definición conjuntos de entrenamiento y de prueba 80% - 20%\n",
    "from sklearn.feature_extraction.text import CountVectorizer\n",
    "from sklearn.model_selection import train_test_split\n",
    "\n",
    "X_train, X_test, y_train, y_test = train_test_split(X, y, test_size=0.2, random_state=0)"
   ]
  },
  {
   "cell_type": "code",
   "execution_count": 9,
   "metadata": {
    "colab": {},
    "colab_type": "code",
    "id": "gZJH--w8L_Jd",
    "scrolled": true
   },
   "outputs": [],
   "source": [
    "#Ajustamos la regresión logística \n",
    "from sklearn.linear_model import LogisticRegression\n",
    "logreg = LogisticRegression(max_iter=1000)\n",
    "modelo = logreg.fit(X_train, y_train)"
   ]
  },
  {
   "cell_type": "code",
   "execution_count": 10,
   "metadata": {
    "colab": {},
    "colab_type": "code",
    "id": "S4YVt5N7MxyJ"
   },
   "outputs": [
    {
     "name": "stdout",
     "output_type": "stream",
     "text": [
      "coef= [-0.11456712  0.00931574  0.05229116 -0.09707871 -0.00128953 -0.21203688\n",
      "  0.11434791 -0.02266733 -0.06625093  0.03706638 -0.05226566 -0.00544973\n",
      " -0.03805878  0.00750459 -0.00134395] intercept= [-0.02696871]\n"
     ]
    }
   ],
   "source": [
    "# Coeficientes estimados\n",
    "m = modelo.coef_[0]\n",
    "b = modelo.intercept_\n",
    "print(\"coef=\", m, \"intercept=\", b)"
   ]
  },
  {
   "cell_type": "markdown",
   "metadata": {},
   "source": [
    "### Medidas de ajuste conjunto de entrenamiento"
   ]
  },
  {
   "cell_type": "code",
   "execution_count": 11,
   "metadata": {},
   "outputs": [
    {
     "name": "stdout",
     "output_type": "stream",
     "text": [
      "Precisión conjunto entrenamiento: 0.6481\n"
     ]
    }
   ],
   "source": [
    "# Precisión del modelo para el conjunto de entrenamiento\n",
    "y_pred_train= modelo.predict(X_train)\n",
    "print('Precisión conjunto entrenamiento: {:.4f}'.format(modelo.score(X_train,y_train)))"
   ]
  },
  {
   "cell_type": "code",
   "execution_count": 12,
   "metadata": {},
   "outputs": [
    {
     "name": "stdout",
     "output_type": "stream",
     "text": [
      "Matriz de Confusión:\n",
      "[[5301 2251]\n",
      " [2716 3847]]\n"
     ]
    }
   ],
   "source": [
    "# Matriz de confusión del modelo para el conjunto de entrenamiento\n",
    "from sklearn.metrics import confusion_matrix\n",
    "confusion_matrix = confusion_matrix(y_train, y_pred_train)\n",
    "print('Matriz de Confusión:')\n",
    "print(confusion_matrix)"
   ]
  },
  {
   "cell_type": "markdown",
   "metadata": {},
   "source": [
    "Se observa que para el conjunto de entrenamiento la precisión del modelo es del 65%, lo que indica que el modelo clasificará bien los pacientes el 65% de las veces.\n",
    "\n",
    "Al analizar la matriz de confusión: \n",
    "- Se observa que para los pacientes sin tratamiento la tasa de buena clasificación es de 69% y para los pacientes con tratamiento es de 61%.   \n",
    "- También se observa que para los pacientes sin tratamiento la tasa de mala clasificación es de 31% y para los pacientes con tratamiento es de 39%.   "
   ]
  },
  {
   "cell_type": "markdown",
   "metadata": {},
   "source": [
    "### Medidas de ajuste conjunto de prueba"
   ]
  },
  {
   "cell_type": "code",
   "execution_count": 13,
   "metadata": {},
   "outputs": [
    {
     "name": "stdout",
     "output_type": "stream",
     "text": [
      "Precisión conjunto prueba: 0.6277\n"
     ]
    }
   ],
   "source": [
    "# Predicción y precisión del modelo para el conjunto de prueba\n",
    "y_pred_test= modelo.predict(X_test)\n",
    "print('Precisión conjunto prueba: {:.4f}'.format(modelo.score(X_test, y_test)))"
   ]
  },
  {
   "cell_type": "code",
   "execution_count": 14,
   "metadata": {},
   "outputs": [
    {
     "name": "stdout",
     "output_type": "stream",
     "text": [
      "confusion_matrix\n",
      "[[1296  581]\n",
      " [ 733  919]]\n"
     ]
    }
   ],
   "source": [
    "# Matriz de confusión del modelo para el conjunto de prueba\n",
    "from sklearn.metrics import confusion_matrix\n",
    "print('confusion_matrix')\n",
    "confusion_matrix = confusion_matrix(y_test, y_pred_test)\n",
    "print(confusion_matrix)"
   ]
  },
  {
   "cell_type": "markdown",
   "metadata": {},
   "source": [
    "Se observa que para el conjunto de prueba la precisión del modelo es del 65%, lo que indica que el modelo clasificará bien los pacientes el 65% de las veces.\n",
    "\n",
    "Al analizar la matriz de confusión: \n",
    "- Se observa que para los pacientes sin tratamiento la tasa de buena clasificación es de 70% y para los pacientes con tratamiento es de 61%.   \n",
    "- También se observa que para los pacientes sin tratamiento la tasa de mala clasificación es de 30% y para los pacientes con tratamiento es de 39%.   "
   ]
  }
 ],
 "metadata": {
  "colab": {
   "collapsed_sections": [],
   "name": "Taller1.ipynb",
   "provenance": [],
   "toc_visible": true
  },
  "kernelspec": {
   "display_name": "Python 3",
   "language": "python",
   "name": "python3"
  },
  "language_info": {
   "codemirror_mode": {
    "name": "ipython",
    "version": 3
   },
   "file_extension": ".py",
   "mimetype": "text/x-python",
   "name": "python",
   "nbconvert_exporter": "python",
   "pygments_lexer": "ipython3",
   "version": "3.7.7"
  }
 },
 "nbformat": 4,
 "nbformat_minor": 4
}
