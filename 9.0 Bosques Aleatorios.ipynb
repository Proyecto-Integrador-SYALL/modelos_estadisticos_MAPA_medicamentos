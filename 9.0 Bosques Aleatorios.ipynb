{
 "cells": [
  {
   "cell_type": "markdown",
   "metadata": {
    "colab_type": "text",
    "id": "MLS2Io6sL_JU"
   },
   "source": [
    "# Bosques Aleatorios\n",
    "\n",
    "\n",
    "## Introducción\n",
    "\n",
    "Los Random Forest también conocidos como 'Bosques Aleatorios' es una combinación de árboles predictores tal que cada árbol depende de los valores de un vector aleatorio probado independientemente y con la misma distribución para cada uno de estos. El término aparece de la primera propuesta de Random Decision Forests, hecha por Tin Kam Ho de Bell Labs en 1995. El método combina la idea de Bagging de Breiman y la selección aleatoria de atributos, introducida independientemente por Ho, Amit y Geman para construir una colección de árboles de decisión con variación controlada.\n",
    "\n",
    "En muchos problemas el rendimiento del algoritmo Random Forest es muy similar al del Boosting, y es más simple de entrenar y ajustar. Como consecuencia, el Random Forest es popular y ampliamente utilizado.\n",
    "\n",
    "La idea esencial del Bagging es promediar muchos modelos ruidosos, pero aproximadamente imparciales, y por tanto reducir la variación. Los árboles son los candidatos ideales para el Bagging, dado que ellos pueden registrar estructuras de interacción compleja en los datos, y si crecen suficientemente profundo, tienen relativamente baja parcialidad. Producto de que los árboles son notoriamente ruidosos, ellos se benefician enormemente al promediar.\n",
    "\n",
    "Cada árbol es construido usando el siguiente algoritmo:\n",
    "\n",
    "1. Sea N el número de casos de prueba, M es el número de variables en el clasificador\n",
    "2. Sea m el número de variables de entrada a ser usadas para determinar la decisión en un nodo dado; m debe ser mucho menor que M\n",
    "3. Elegir un conjunto de entrenamiento para este árbol y usar el resto de los casos de prueba para estimar el error\n",
    "4. Para cada nodo del árbol, elegir aleatoriamente m variables en las cuales basar la decisión. Calcular la mejor partición del conjunto de entrenamiento a partir de las m variables\n",
    "5. Para predecir un nuevo caso se evalúa el individuo en el árbol, luego se le asigna la etiqueta del nodo terminal. Este proceso es iterado por todos los árboles en el ensamblado, y la etiqueta que obtenga la mayor cantidad de incidencias es reportada como la predicción.\n",
    "\n",
    "## Ventajas\n",
    "\n",
    "- Para un set de datos lo suficientemente grande produce un clasificador muy certero\n",
    "- Corre eficientemente en bases de datos grandes\n",
    "- Permite incluir cientos de variables de entrada sin excluir ninguna\n",
    "- Estima qué variables son importantes en la clasificación \n",
    "\n",
    "\n",
    "## Desventajas\n",
    "\n",
    "- El Random Forests sobreajusta en ciertos grupos de datos con tareas de clasificación/regresión ruidosa\n",
    "- A diferencia de los árboles de decisión, la clasificación hecha por Random Forests es difícil de interpretar. Para los datos que incluyen variables categóricas con diferente número de niveles, el Random Forests se parcializa a favor de esos atributos con más niveles. Por consiguiente, la posición que marca la variable no es fiable para este tipo de datos"
   ]
  },
  {
   "cell_type": "code",
   "execution_count": 1,
   "metadata": {},
   "outputs": [],
   "source": [
    "%matplotlib inline\n",
    "\n",
    "import numpy as np\n",
    "import pandas as pd\n",
    "import seaborn as sns\n",
    "import matplotlib.pyplot as plt\n",
    "\n",
    "sns.set()"
   ]
  },
  {
   "cell_type": "code",
   "execution_count": 2,
   "metadata": {},
   "outputs": [
    {
     "data": {
      "text/html": [
       "<div>\n",
       "<style scoped>\n",
       "    .dataframe tbody tr th:only-of-type {\n",
       "        vertical-align: middle;\n",
       "    }\n",
       "\n",
       "    .dataframe tbody tr th {\n",
       "        vertical-align: top;\n",
       "    }\n",
       "\n",
       "    .dataframe thead th {\n",
       "        text-align: right;\n",
       "    }\n",
       "</style>\n",
       "<table border=\"1\" class=\"dataframe\">\n",
       "  <thead>\n",
       "    <tr style=\"text-align: right;\">\n",
       "      <th></th>\n",
       "      <th>treatment</th>\n",
       "      <th>birth_date</th>\n",
       "      <th>start_date</th>\n",
       "      <th>start_night</th>\n",
       "      <th>end_night</th>\n",
       "      <th>gender</th>\n",
       "      <th>height</th>\n",
       "      <th>weight</th>\n",
       "      <th>age</th>\n",
       "      <th>smoking</th>\n",
       "      <th>...</th>\n",
       "      <th>beer</th>\n",
       "      <th>wine</th>\n",
       "      <th>alcohol</th>\n",
       "      <th>strong_licor</th>\n",
       "      <th>sistolic</th>\n",
       "      <th>diastolic</th>\n",
       "      <th>heart_rate</th>\n",
       "      <th>pulse_pressure</th>\n",
       "      <th>cardiac_index</th>\n",
       "      <th>systemic_vascular_resistance</th>\n",
       "    </tr>\n",
       "    <tr>\n",
       "      <th>patient_id</th>\n",
       "      <th></th>\n",
       "      <th></th>\n",
       "      <th></th>\n",
       "      <th></th>\n",
       "      <th></th>\n",
       "      <th></th>\n",
       "      <th></th>\n",
       "      <th></th>\n",
       "      <th></th>\n",
       "      <th></th>\n",
       "      <th></th>\n",
       "      <th></th>\n",
       "      <th></th>\n",
       "      <th></th>\n",
       "      <th></th>\n",
       "      <th></th>\n",
       "      <th></th>\n",
       "      <th></th>\n",
       "      <th></th>\n",
       "      <th></th>\n",
       "      <th></th>\n",
       "    </tr>\n",
       "  </thead>\n",
       "  <tbody>\n",
       "    <tr>\n",
       "      <th>30</th>\n",
       "      <td>True</td>\n",
       "      <td>1983-12-25 00:00:00</td>\n",
       "      <td>2017-11-01 07:02:00</td>\n",
       "      <td>2017-10-27 04:30:00</td>\n",
       "      <td>2017-10-27 06:30:00</td>\n",
       "      <td>m</td>\n",
       "      <td>1.78</td>\n",
       "      <td>102.0</td>\n",
       "      <td>33.854327</td>\n",
       "      <td>0</td>\n",
       "      <td>...</td>\n",
       "      <td>0</td>\n",
       "      <td>0</td>\n",
       "      <td>1</td>\n",
       "      <td>0</td>\n",
       "      <td>120.457143</td>\n",
       "      <td>79.957143</td>\n",
       "      <td>72.685714</td>\n",
       "      <td>41.0</td>\n",
       "      <td>2.3</td>\n",
       "      <td>1158.0</td>\n",
       "    </tr>\n",
       "    <tr>\n",
       "      <th>31</th>\n",
       "      <td>False</td>\n",
       "      <td>1946-10-09 00:00:00</td>\n",
       "      <td>2017-11-01 08:40:00</td>\n",
       "      <td>2017-11-02 02:00:00</td>\n",
       "      <td>2017-11-02 04:00:00</td>\n",
       "      <td>m</td>\n",
       "      <td>1.67</td>\n",
       "      <td>82.4</td>\n",
       "      <td>71.064644</td>\n",
       "      <td>0</td>\n",
       "      <td>...</td>\n",
       "      <td>0</td>\n",
       "      <td>0</td>\n",
       "      <td>1</td>\n",
       "      <td>0</td>\n",
       "      <td>143.405405</td>\n",
       "      <td>91.067568</td>\n",
       "      <td>65.500000</td>\n",
       "      <td>52.0</td>\n",
       "      <td>2.8</td>\n",
       "      <td>1417.0</td>\n",
       "    </tr>\n",
       "    <tr>\n",
       "      <th>32</th>\n",
       "      <td>True</td>\n",
       "      <td>1960-02-14 00:00:00</td>\n",
       "      <td>2017-11-01 09:57:00</td>\n",
       "      <td>2017-11-02 03:00:00</td>\n",
       "      <td>2017-11-02 05:00:00</td>\n",
       "      <td>m</td>\n",
       "      <td>1.70</td>\n",
       "      <td>93.2</td>\n",
       "      <td>57.715030</td>\n",
       "      <td>0</td>\n",
       "      <td>...</td>\n",
       "      <td>0</td>\n",
       "      <td>1</td>\n",
       "      <td>1</td>\n",
       "      <td>0</td>\n",
       "      <td>122.557143</td>\n",
       "      <td>90.257143</td>\n",
       "      <td>80.628571</td>\n",
       "      <td>32.0</td>\n",
       "      <td>3.0</td>\n",
       "      <td>1319.0</td>\n",
       "    </tr>\n",
       "    <tr>\n",
       "      <th>33</th>\n",
       "      <td>False</td>\n",
       "      <td>1974-03-11 00:00:00</td>\n",
       "      <td>2017-11-01 10:17:00</td>\n",
       "      <td>2017-11-02 03:20:00</td>\n",
       "      <td>2017-11-02 05:20:00</td>\n",
       "      <td>f</td>\n",
       "      <td>1.60</td>\n",
       "      <td>61.3</td>\n",
       "      <td>43.645252</td>\n",
       "      <td>0</td>\n",
       "      <td>...</td>\n",
       "      <td>0</td>\n",
       "      <td>0</td>\n",
       "      <td>0</td>\n",
       "      <td>0</td>\n",
       "      <td>145.893939</td>\n",
       "      <td>93.863636</td>\n",
       "      <td>79.787879</td>\n",
       "      <td>52.0</td>\n",
       "      <td>4.2</td>\n",
       "      <td>1353.0</td>\n",
       "    </tr>\n",
       "    <tr>\n",
       "      <th>34</th>\n",
       "      <td>True</td>\n",
       "      <td>1996-06-26 00:00:00</td>\n",
       "      <td>2017-11-01 10:36:00</td>\n",
       "      <td>2017-11-02 04:30:00</td>\n",
       "      <td>2017-11-02 06:30:00</td>\n",
       "      <td>m</td>\n",
       "      <td>1.73</td>\n",
       "      <td>72.3</td>\n",
       "      <td>21.350970</td>\n",
       "      <td>0</td>\n",
       "      <td>...</td>\n",
       "      <td>1</td>\n",
       "      <td>0</td>\n",
       "      <td>1</td>\n",
       "      <td>0</td>\n",
       "      <td>130.376812</td>\n",
       "      <td>82.739130</td>\n",
       "      <td>77.913043</td>\n",
       "      <td>48.0</td>\n",
       "      <td>3.2</td>\n",
       "      <td>1172.0</td>\n",
       "    </tr>\n",
       "  </tbody>\n",
       "</table>\n",
       "<p>5 rows × 21 columns</p>\n",
       "</div>"
      ],
      "text/plain": [
       "            treatment           birth_date           start_date  \\\n",
       "patient_id                                                        \n",
       "30               True  1983-12-25 00:00:00  2017-11-01 07:02:00   \n",
       "31              False  1946-10-09 00:00:00  2017-11-01 08:40:00   \n",
       "32               True  1960-02-14 00:00:00  2017-11-01 09:57:00   \n",
       "33              False  1974-03-11 00:00:00  2017-11-01 10:17:00   \n",
       "34               True  1996-06-26 00:00:00  2017-11-01 10:36:00   \n",
       "\n",
       "                    start_night            end_night gender  height  weight  \\\n",
       "patient_id                                                                    \n",
       "30          2017-10-27 04:30:00  2017-10-27 06:30:00      m    1.78   102.0   \n",
       "31          2017-11-02 02:00:00  2017-11-02 04:00:00      m    1.67    82.4   \n",
       "32          2017-11-02 03:00:00  2017-11-02 05:00:00      m    1.70    93.2   \n",
       "33          2017-11-02 03:20:00  2017-11-02 05:20:00      f    1.60    61.3   \n",
       "34          2017-11-02 04:30:00  2017-11-02 06:30:00      m    1.73    72.3   \n",
       "\n",
       "                  age  smoking  ...  beer  wine  alcohol  strong_licor  \\\n",
       "patient_id                      ...                                      \n",
       "30          33.854327        0  ...     0     0        1             0   \n",
       "31          71.064644        0  ...     0     0        1             0   \n",
       "32          57.715030        0  ...     0     1        1             0   \n",
       "33          43.645252        0  ...     0     0        0             0   \n",
       "34          21.350970        0  ...     1     0        1             0   \n",
       "\n",
       "              sistolic  diastolic  heart_rate  pulse_pressure  cardiac_index  \\\n",
       "patient_id                                                                     \n",
       "30          120.457143  79.957143   72.685714            41.0            2.3   \n",
       "31          143.405405  91.067568   65.500000            52.0            2.8   \n",
       "32          122.557143  90.257143   80.628571            32.0            3.0   \n",
       "33          145.893939  93.863636   79.787879            52.0            4.2   \n",
       "34          130.376812  82.739130   77.913043            48.0            3.2   \n",
       "\n",
       "            systemic_vascular_resistance  \n",
       "patient_id                                \n",
       "30                                1158.0  \n",
       "31                                1417.0  \n",
       "32                                1319.0  \n",
       "33                                1353.0  \n",
       "34                                1172.0  \n",
       "\n",
       "[5 rows x 21 columns]"
      ]
     },
     "execution_count": 2,
     "metadata": {},
     "output_type": "execute_result"
    }
   ],
   "source": [
    "# Lectura de datos\n",
    "datos= pd.read_csv('data/filtered1_dataset.csv', sep=',', index_col=\"patient_id\")\n",
    "datos.head()"
   ]
  },
  {
   "cell_type": "code",
   "execution_count": 3,
   "metadata": {},
   "outputs": [
    {
     "data": {
      "text/plain": [
       "patient_id\n",
       "30     True\n",
       "31    False\n",
       "32     True\n",
       "33    False\n",
       "34     True\n",
       "Name: treatment, dtype: bool"
      ]
     },
     "execution_count": 3,
     "metadata": {},
     "output_type": "execute_result"
    }
   ],
   "source": [
    "# Extraemos la variable respuesta \"treatment\"\n",
    "y = datos[\"treatment\"]\n",
    "y.head()"
   ]
  },
  {
   "cell_type": "code",
   "execution_count": 4,
   "metadata": {
    "colab": {
     "base_uri": "https://localhost:8080/",
     "height": 34
    },
    "colab_type": "code",
    "executionInfo": {
     "elapsed": 810,
     "status": "ok",
     "timestamp": 1592971185398,
     "user": {
      "displayName": "Leidy Marcela Castaneda Bedoya",
      "photoUrl": "https://lh3.googleusercontent.com/a-/AOh14Ghc5RV2rOBh2inkbUz5qC3niJdJJUBiwnXQQMRH=s64",
      "userId": "01251257951223077810"
     },
     "user_tz": 300
    },
    "id": "UKLOc2bFdeor",
    "outputId": "68686eb9-3d65-444b-ca48-c32e05c9d57b"
   },
   "outputs": [
    {
     "data": {
      "text/plain": [
       "(17644,)"
      ]
     },
     "execution_count": 4,
     "metadata": {},
     "output_type": "execute_result"
    }
   ],
   "source": [
    "np.shape(y)"
   ]
  },
  {
   "cell_type": "markdown",
   "metadata": {},
   "source": [
    "A continuación se presenta la frecuencia por categoría para la variable **treatment** (True - False)"
   ]
  },
  {
   "cell_type": "code",
   "execution_count": 5,
   "metadata": {
    "scrolled": true
   },
   "outputs": [
    {
     "name": "stdout",
     "output_type": "stream",
     "text": [
      "treatment\n",
      "False    9429\n",
      "True     8215\n",
      "dtype: int64\n"
     ]
    },
    {
     "name": "stderr",
     "output_type": "stream",
     "text": [
      "/Users/lescobar/.anaconda/lib/python3.7/site-packages/seaborn/categorical.py:3666: UserWarning: The `factorplot` function has been renamed to `catplot`. The original name will be removed in a future release. Please update your code. Note that the default `kind` in `factorplot` (`'point'`) has changed `'strip'` in `catplot`.\n",
      "  warnings.warn(msg)\n"
     ]
    },
    {
     "data": {
      "text/plain": [
       "<seaborn.axisgrid.FacetGrid at 0x7ff8217f8650>"
      ]
     },
     "execution_count": 5,
     "metadata": {},
     "output_type": "execute_result"
    },
    {
     "data": {
      "image/png": "[encoded data removed]",
      "text/plain": [
       "<Figure size 360x360 with 1 Axes>"
      ]
     },
     "metadata": {},
     "output_type": "display_data"
    }
   ],
   "source": [
    "print(datos.groupby('treatment').size())\n",
    "sns.factorplot('treatment',data=datos,kind=\"count\")\n"
   ]
  },
  {
   "cell_type": "markdown",
   "metadata": {},
   "source": [
    "Se observa que el 53% de la población no tiene tratamiento (False) y el 47% si tiene tratamiento (True). Como nos encontramos frente a un conjunto de datos balanceados se procede a ajustar el modelo sin realizar proceso de balanceo sobre la base, pues no incurririamos en sesgos en la estimación."
   ]
  },
  {
   "cell_type": "code",
   "execution_count": 6,
   "metadata": {},
   "outputs": [
    {
     "data": {
      "text/html": [
       "<div>\n",
       "<style scoped>\n",
       "    .dataframe tbody tr th:only-of-type {\n",
       "        vertical-align: middle;\n",
       "    }\n",
       "\n",
       "    .dataframe tbody tr th {\n",
       "        vertical-align: top;\n",
       "    }\n",
       "\n",
       "    .dataframe thead th {\n",
       "        text-align: right;\n",
       "    }\n",
       "</style>\n",
       "<table border=\"1\" class=\"dataframe\">\n",
       "  <thead>\n",
       "    <tr style=\"text-align: right;\">\n",
       "      <th></th>\n",
       "      <th>height</th>\n",
       "      <th>weight</th>\n",
       "      <th>age</th>\n",
       "      <th>smoking</th>\n",
       "      <th>excercise_frecuency</th>\n",
       "      <th>beer</th>\n",
       "      <th>wine</th>\n",
       "      <th>alcohol</th>\n",
       "      <th>strong_licor</th>\n",
       "      <th>sistolic</th>\n",
       "      <th>diastolic</th>\n",
       "      <th>heart_rate</th>\n",
       "      <th>pulse_pressure</th>\n",
       "      <th>cardiac_index</th>\n",
       "      <th>systemic_vascular_resistance</th>\n",
       "    </tr>\n",
       "    <tr>\n",
       "      <th>patient_id</th>\n",
       "      <th></th>\n",
       "      <th></th>\n",
       "      <th></th>\n",
       "      <th></th>\n",
       "      <th></th>\n",
       "      <th></th>\n",
       "      <th></th>\n",
       "      <th></th>\n",
       "      <th></th>\n",
       "      <th></th>\n",
       "      <th></th>\n",
       "      <th></th>\n",
       "      <th></th>\n",
       "      <th></th>\n",
       "      <th></th>\n",
       "    </tr>\n",
       "  </thead>\n",
       "  <tbody>\n",
       "    <tr>\n",
       "      <th>30</th>\n",
       "      <td>1.78</td>\n",
       "      <td>102.0</td>\n",
       "      <td>33.854327</td>\n",
       "      <td>0</td>\n",
       "      <td>5</td>\n",
       "      <td>0</td>\n",
       "      <td>0</td>\n",
       "      <td>1</td>\n",
       "      <td>0</td>\n",
       "      <td>120.457143</td>\n",
       "      <td>79.957143</td>\n",
       "      <td>72.685714</td>\n",
       "      <td>41.0</td>\n",
       "      <td>2.3</td>\n",
       "      <td>1158.0</td>\n",
       "    </tr>\n",
       "    <tr>\n",
       "      <th>31</th>\n",
       "      <td>1.67</td>\n",
       "      <td>82.4</td>\n",
       "      <td>71.064644</td>\n",
       "      <td>0</td>\n",
       "      <td>2</td>\n",
       "      <td>0</td>\n",
       "      <td>0</td>\n",
       "      <td>1</td>\n",
       "      <td>0</td>\n",
       "      <td>143.405405</td>\n",
       "      <td>91.067568</td>\n",
       "      <td>65.500000</td>\n",
       "      <td>52.0</td>\n",
       "      <td>2.8</td>\n",
       "      <td>1417.0</td>\n",
       "    </tr>\n",
       "    <tr>\n",
       "      <th>32</th>\n",
       "      <td>1.70</td>\n",
       "      <td>93.2</td>\n",
       "      <td>57.715030</td>\n",
       "      <td>0</td>\n",
       "      <td>1</td>\n",
       "      <td>0</td>\n",
       "      <td>1</td>\n",
       "      <td>1</td>\n",
       "      <td>0</td>\n",
       "      <td>122.557143</td>\n",
       "      <td>90.257143</td>\n",
       "      <td>80.628571</td>\n",
       "      <td>32.0</td>\n",
       "      <td>3.0</td>\n",
       "      <td>1319.0</td>\n",
       "    </tr>\n",
       "    <tr>\n",
       "      <th>33</th>\n",
       "      <td>1.60</td>\n",
       "      <td>61.3</td>\n",
       "      <td>43.645252</td>\n",
       "      <td>0</td>\n",
       "      <td>1</td>\n",
       "      <td>0</td>\n",
       "      <td>0</td>\n",
       "      <td>0</td>\n",
       "      <td>0</td>\n",
       "      <td>145.893939</td>\n",
       "      <td>93.863636</td>\n",
       "      <td>79.787879</td>\n",
       "      <td>52.0</td>\n",
       "      <td>4.2</td>\n",
       "      <td>1353.0</td>\n",
       "    </tr>\n",
       "    <tr>\n",
       "      <th>34</th>\n",
       "      <td>1.73</td>\n",
       "      <td>72.3</td>\n",
       "      <td>21.350970</td>\n",
       "      <td>0</td>\n",
       "      <td>1</td>\n",
       "      <td>1</td>\n",
       "      <td>0</td>\n",
       "      <td>1</td>\n",
       "      <td>0</td>\n",
       "      <td>130.376812</td>\n",
       "      <td>82.739130</td>\n",
       "      <td>77.913043</td>\n",
       "      <td>48.0</td>\n",
       "      <td>3.2</td>\n",
       "      <td>1172.0</td>\n",
       "    </tr>\n",
       "  </tbody>\n",
       "</table>\n",
       "</div>"
      ],
      "text/plain": [
       "            height  weight        age  smoking  excercise_frecuency  beer  \\\n",
       "patient_id                                                                  \n",
       "30            1.78   102.0  33.854327        0                    5     0   \n",
       "31            1.67    82.4  71.064644        0                    2     0   \n",
       "32            1.70    93.2  57.715030        0                    1     0   \n",
       "33            1.60    61.3  43.645252        0                    1     0   \n",
       "34            1.73    72.3  21.350970        0                    1     1   \n",
       "\n",
       "            wine  alcohol  strong_licor    sistolic  diastolic  heart_rate  \\\n",
       "patient_id                                                                   \n",
       "30             0        1             0  120.457143  79.957143   72.685714   \n",
       "31             0        1             0  143.405405  91.067568   65.500000   \n",
       "32             1        1             0  122.557143  90.257143   80.628571   \n",
       "33             0        0             0  145.893939  93.863636   79.787879   \n",
       "34             0        1             0  130.376812  82.739130   77.913043   \n",
       "\n",
       "            pulse_pressure  cardiac_index  systemic_vascular_resistance  \n",
       "patient_id                                                               \n",
       "30                    41.0            2.3                        1158.0  \n",
       "31                    52.0            2.8                        1417.0  \n",
       "32                    32.0            3.0                        1319.0  \n",
       "33                    52.0            4.2                        1353.0  \n",
       "34                    48.0            3.2                        1172.0  "
      ]
     },
     "execution_count": 6,
     "metadata": {},
     "output_type": "execute_result"
    }
   ],
   "source": [
    "# Extraer las variables independientes \n",
    "X = datos.iloc[:,6:]\n",
    "X.head()"
   ]
  },
  {
   "cell_type": "markdown",
   "metadata": {},
   "source": [
    "Dividimos el conjunto de datos en dos partes, 80% para entrenar el modelo y el 20% para probarlo."
   ]
  },
  {
   "cell_type": "code",
   "execution_count": 7,
   "metadata": {},
   "outputs": [],
   "source": [
    "from sklearn.model_selection import train_test_split\n",
    "#Separo los datos de \"train\" en entrenamiento y prueba para probar los algoritmos\n",
    "X_train, X_test, y_train, y_test = train_test_split(X, y, test_size=0.2,random_state=0)"
   ]
  },
  {
   "cell_type": "code",
   "execution_count": 8,
   "metadata": {},
   "outputs": [
    {
     "data": {
      "text/plain": [
       "RandomForestClassifier(bootstrap=True, ccp_alpha=0.0, class_weight=None,\n",
       "                       criterion='gini', max_depth=None, max_features='auto',\n",
       "                       max_leaf_nodes=None, max_samples=None,\n",
       "                       min_impurity_decrease=0.0, min_impurity_split=None,\n",
       "                       min_samples_leaf=1, min_samples_split=2,\n",
       "                       min_weight_fraction_leaf=0.0, n_estimators=100,\n",
       "                       n_jobs=None, oob_score=False, random_state=1994,\n",
       "                       verbose=0, warm_start=False)"
      ]
     },
     "execution_count": 8,
     "metadata": {},
     "output_type": "execute_result"
    }
   ],
   "source": [
    "#Ajustamos el Random Forest\n",
    "from sklearn.ensemble import RandomForestClassifier\n",
    "rf=RandomForestClassifier(n_estimators=100,random_state=1994)\n",
    "rf.fit(X_train,y_train)"
   ]
  },
  {
   "cell_type": "markdown",
   "metadata": {},
   "source": [
    "### Medidas de ajuste conjunto de entrenamiento"
   ]
  },
  {
   "cell_type": "code",
   "execution_count": 9,
   "metadata": {},
   "outputs": [
    {
     "name": "stdout",
     "output_type": "stream",
     "text": [
      "Precisión del modelo:\n",
      "1.0\n"
     ]
    }
   ],
   "source": [
    "#  Precisión del modelo para el conjunto de entrenamiento\n",
    "from sklearn.metrics import precision_score\n",
    "y_pred_train=rf.predict(X_train)\n",
    "precision = precision_score(y_train, y_pred_train)\n",
    "print('Precisión del modelo:')\n",
    "print(precision)"
   ]
  },
  {
   "cell_type": "code",
   "execution_count": 10,
   "metadata": {},
   "outputs": [
    {
     "name": "stdout",
     "output_type": "stream",
     "text": [
      "Matriz de Confusión:\n",
      "[[7552    0]\n",
      " [   0 6563]]\n"
     ]
    }
   ],
   "source": [
    "# Matriz de confusión del modelo para el conjunto de entrenamiento\n",
    "from sklearn.metrics import confusion_matrix\n",
    "matriz = confusion_matrix(y_train, y_pred_train)\n",
    "print('Matriz de Confusión:')\n",
    "print(matriz)"
   ]
  },
  {
   "cell_type": "markdown",
   "metadata": {},
   "source": [
    "Se observa que para el conjunto de entrenamiento la precisión es sospechosamente buena (100%), lo que indica que el modelo clasificará bien los pacientes el 100% de las veces.\n",
    "\n",
    "Al analizar la matriz de confusión: \n",
    "- Se observa que tanto para los pacientes sin tratamiento como los pacientes con tratamiento, la tasa de buena clasificación es de 100%.\n",
    "- También se observa que para ambas clases la tasa de mala clasificación es de 0%."
   ]
  },
  {
   "cell_type": "markdown",
   "metadata": {},
   "source": [
    "### Medidas de ajuste conjunto de prueba"
   ]
  },
  {
   "cell_type": "code",
   "execution_count": 11,
   "metadata": {},
   "outputs": [
    {
     "name": "stdout",
     "output_type": "stream",
     "text": [
      "Precisión del modelo: 0.6159942363112392\n"
     ]
    }
   ],
   "source": [
    "# Precisión del modelo para el conjunto de prueba\n",
    "from sklearn.metrics import precision_score\n",
    "y_pred_test = rf.predict(X_test)\n",
    "precision = precision_score(y_test, y_pred_test)\n",
    "print('Precisión del modelo:', precision)"
   ]
  },
  {
   "cell_type": "code",
   "execution_count": 12,
   "metadata": {
    "scrolled": true
   },
   "outputs": [
    {
     "name": "stdout",
     "output_type": "stream",
     "text": [
      "Matriz de Confusión:\n",
      "[[1344  533]\n",
      " [ 797  855]]\n"
     ]
    }
   ],
   "source": [
    "# Matriz de confusión del modelo para el conjunto de prueba\n",
    "from sklearn.metrics import confusion_matrix\n",
    "matriz = confusion_matrix(y_test, y_pred_test)\n",
    "print('Matriz de Confusión:')\n",
    "print(matriz)"
   ]
  },
  {
   "cell_type": "markdown",
   "metadata": {},
   "source": [
    "Se observa que para el conjunto de prueba la precisión del modelo es 62%, lo que indica que el modelo clasificará bien los pacientes el 62% de las veces.\n",
    "\n",
    "Al analizar la matriz de confusión: \n",
    "- Se observa que para los pacientes sin tratamiento la tasa de buena clasificación es de 72% y para los pacientes con tratamiento es de 52%.   \n",
    "- También se observa que para los pacientes sin tratamiento la tasa de mala clasificación es de 28% y para los pacientes con tratamiento es de 48%.   "
   ]
  }
 ],
 "metadata": {
  "colab": {
   "collapsed_sections": [],
   "name": "Taller1.ipynb",
   "provenance": [],
   "toc_visible": true
  },
  "kernelspec": {
   "display_name": "Python 3",
   "language": "python",
   "name": "python3"
  },
  "language_info": {
   "codemirror_mode": {
    "name": "ipython",
    "version": 3
   },
   "file_extension": ".py",
   "mimetype": "text/x-python",
   "name": "python",
   "nbconvert_exporter": "python",
   "pygments_lexer": "ipython3",
   "version": "3.7.7"
  }
 },
 "nbformat": 4,
 "nbformat_minor": 4
}
