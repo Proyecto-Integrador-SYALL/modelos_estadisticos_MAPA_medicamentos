{
 "cells": [
  {
   "cell_type": "markdown",
   "metadata": {
    "colab_type": "text",
    "id": "MLS2Io6sL_JU"
   },
   "source": [
    "# Análisis Descriptivo\n",
    "\n",
    "A continuación se presenta una descripción de los datos considerados en el estudio. "
   ]
  },
  {
   "cell_type": "code",
   "execution_count": 1,
   "metadata": {},
   "outputs": [],
   "source": [
    "%matplotlib inline\n",
    "\n",
    "import numpy as np\n",
    "import pandas as pd\n",
    "import seaborn as sns\n",
    "import matplotlib.pyplot as plt\n",
    "\n",
    "sns.set()"
   ]
  },
  {
   "cell_type": "code",
   "execution_count": 5,
   "metadata": {},
   "outputs": [
    {
     "data": {
      "text/html": [
       "<div>\n",
       "<style scoped>\n",
       "    .dataframe tbody tr th:only-of-type {\n",
       "        vertical-align: middle;\n",
       "    }\n",
       "\n",
       "    .dataframe tbody tr th {\n",
       "        vertical-align: top;\n",
       "    }\n",
       "\n",
       "    .dataframe thead th {\n",
       "        text-align: right;\n",
       "    }\n",
       "</style>\n",
       "<table border=\"1\" class=\"dataframe\">\n",
       "  <thead>\n",
       "    <tr style=\"text-align: right;\">\n",
       "      <th></th>\n",
       "      <th>treatment</th>\n",
       "      <th>birth_date</th>\n",
       "      <th>start_date</th>\n",
       "      <th>start_night</th>\n",
       "      <th>end_night</th>\n",
       "      <th>gender</th>\n",
       "      <th>height</th>\n",
       "      <th>weight</th>\n",
       "      <th>age</th>\n",
       "      <th>smoking</th>\n",
       "      <th>...</th>\n",
       "      <th>beer</th>\n",
       "      <th>wine</th>\n",
       "      <th>alcohol</th>\n",
       "      <th>strong_licor</th>\n",
       "      <th>sistolic</th>\n",
       "      <th>diastolic</th>\n",
       "      <th>heart_rate</th>\n",
       "      <th>pulse_pressure</th>\n",
       "      <th>cardiac_index</th>\n",
       "      <th>systemic_vascular_resistance</th>\n",
       "    </tr>\n",
       "    <tr>\n",
       "      <th>patient_id</th>\n",
       "      <th></th>\n",
       "      <th></th>\n",
       "      <th></th>\n",
       "      <th></th>\n",
       "      <th></th>\n",
       "      <th></th>\n",
       "      <th></th>\n",
       "      <th></th>\n",
       "      <th></th>\n",
       "      <th></th>\n",
       "      <th></th>\n",
       "      <th></th>\n",
       "      <th></th>\n",
       "      <th></th>\n",
       "      <th></th>\n",
       "      <th></th>\n",
       "      <th></th>\n",
       "      <th></th>\n",
       "      <th></th>\n",
       "      <th></th>\n",
       "      <th></th>\n",
       "    </tr>\n",
       "  </thead>\n",
       "  <tbody>\n",
       "    <tr>\n",
       "      <th>30</th>\n",
       "      <td>True</td>\n",
       "      <td>1983-12-25 00:00:00</td>\n",
       "      <td>2017-11-01 07:02:00</td>\n",
       "      <td>2017-10-27 04:30:00</td>\n",
       "      <td>2017-10-27 06:30:00</td>\n",
       "      <td>m</td>\n",
       "      <td>1.78</td>\n",
       "      <td>102.0</td>\n",
       "      <td>33.854327</td>\n",
       "      <td>0</td>\n",
       "      <td>...</td>\n",
       "      <td>0</td>\n",
       "      <td>0</td>\n",
       "      <td>1</td>\n",
       "      <td>0</td>\n",
       "      <td>120.457143</td>\n",
       "      <td>79.957143</td>\n",
       "      <td>72.685714</td>\n",
       "      <td>41.0</td>\n",
       "      <td>2.3</td>\n",
       "      <td>1158.0</td>\n",
       "    </tr>\n",
       "    <tr>\n",
       "      <th>31</th>\n",
       "      <td>False</td>\n",
       "      <td>1946-10-09 00:00:00</td>\n",
       "      <td>2017-11-01 08:40:00</td>\n",
       "      <td>2017-11-02 02:00:00</td>\n",
       "      <td>2017-11-02 04:00:00</td>\n",
       "      <td>m</td>\n",
       "      <td>1.67</td>\n",
       "      <td>82.4</td>\n",
       "      <td>71.064644</td>\n",
       "      <td>0</td>\n",
       "      <td>...</td>\n",
       "      <td>0</td>\n",
       "      <td>0</td>\n",
       "      <td>1</td>\n",
       "      <td>0</td>\n",
       "      <td>143.405405</td>\n",
       "      <td>91.067568</td>\n",
       "      <td>65.500000</td>\n",
       "      <td>52.0</td>\n",
       "      <td>2.8</td>\n",
       "      <td>1417.0</td>\n",
       "    </tr>\n",
       "    <tr>\n",
       "      <th>32</th>\n",
       "      <td>True</td>\n",
       "      <td>1960-02-14 00:00:00</td>\n",
       "      <td>2017-11-01 09:57:00</td>\n",
       "      <td>2017-11-02 03:00:00</td>\n",
       "      <td>2017-11-02 05:00:00</td>\n",
       "      <td>m</td>\n",
       "      <td>1.70</td>\n",
       "      <td>93.2</td>\n",
       "      <td>57.715030</td>\n",
       "      <td>0</td>\n",
       "      <td>...</td>\n",
       "      <td>0</td>\n",
       "      <td>1</td>\n",
       "      <td>1</td>\n",
       "      <td>0</td>\n",
       "      <td>122.557143</td>\n",
       "      <td>90.257143</td>\n",
       "      <td>80.628571</td>\n",
       "      <td>32.0</td>\n",
       "      <td>3.0</td>\n",
       "      <td>1319.0</td>\n",
       "    </tr>\n",
       "    <tr>\n",
       "      <th>33</th>\n",
       "      <td>False</td>\n",
       "      <td>1974-03-11 00:00:00</td>\n",
       "      <td>2017-11-01 10:17:00</td>\n",
       "      <td>2017-11-02 03:20:00</td>\n",
       "      <td>2017-11-02 05:20:00</td>\n",
       "      <td>f</td>\n",
       "      <td>1.60</td>\n",
       "      <td>61.3</td>\n",
       "      <td>43.645252</td>\n",
       "      <td>0</td>\n",
       "      <td>...</td>\n",
       "      <td>0</td>\n",
       "      <td>0</td>\n",
       "      <td>0</td>\n",
       "      <td>0</td>\n",
       "      <td>145.893939</td>\n",
       "      <td>93.863636</td>\n",
       "      <td>79.787879</td>\n",
       "      <td>52.0</td>\n",
       "      <td>4.2</td>\n",
       "      <td>1353.0</td>\n",
       "    </tr>\n",
       "    <tr>\n",
       "      <th>34</th>\n",
       "      <td>True</td>\n",
       "      <td>1996-06-26 00:00:00</td>\n",
       "      <td>2017-11-01 10:36:00</td>\n",
       "      <td>2017-11-02 04:30:00</td>\n",
       "      <td>2017-11-02 06:30:00</td>\n",
       "      <td>m</td>\n",
       "      <td>1.73</td>\n",
       "      <td>72.3</td>\n",
       "      <td>21.350970</td>\n",
       "      <td>0</td>\n",
       "      <td>...</td>\n",
       "      <td>1</td>\n",
       "      <td>0</td>\n",
       "      <td>1</td>\n",
       "      <td>0</td>\n",
       "      <td>130.376812</td>\n",
       "      <td>82.739130</td>\n",
       "      <td>77.913043</td>\n",
       "      <td>48.0</td>\n",
       "      <td>3.2</td>\n",
       "      <td>1172.0</td>\n",
       "    </tr>\n",
       "  </tbody>\n",
       "</table>\n",
       "<p>5 rows × 21 columns</p>\n",
       "</div>"
      ],
      "text/plain": [
       "            treatment           birth_date           start_date  \\\n",
       "patient_id                                                        \n",
       "30               True  1983-12-25 00:00:00  2017-11-01 07:02:00   \n",
       "31              False  1946-10-09 00:00:00  2017-11-01 08:40:00   \n",
       "32               True  1960-02-14 00:00:00  2017-11-01 09:57:00   \n",
       "33              False  1974-03-11 00:00:00  2017-11-01 10:17:00   \n",
       "34               True  1996-06-26 00:00:00  2017-11-01 10:36:00   \n",
       "\n",
       "                    start_night            end_night gender  height  weight  \\\n",
       "patient_id                                                                    \n",
       "30          2017-10-27 04:30:00  2017-10-27 06:30:00      m    1.78   102.0   \n",
       "31          2017-11-02 02:00:00  2017-11-02 04:00:00      m    1.67    82.4   \n",
       "32          2017-11-02 03:00:00  2017-11-02 05:00:00      m    1.70    93.2   \n",
       "33          2017-11-02 03:20:00  2017-11-02 05:20:00      f    1.60    61.3   \n",
       "34          2017-11-02 04:30:00  2017-11-02 06:30:00      m    1.73    72.3   \n",
       "\n",
       "                  age  smoking  ...  beer  wine  alcohol  strong_licor  \\\n",
       "patient_id                      ...                                      \n",
       "30          33.854327        0  ...     0     0        1             0   \n",
       "31          71.064644        0  ...     0     0        1             0   \n",
       "32          57.715030        0  ...     0     1        1             0   \n",
       "33          43.645252        0  ...     0     0        0             0   \n",
       "34          21.350970        0  ...     1     0        1             0   \n",
       "\n",
       "              sistolic  diastolic  heart_rate  pulse_pressure  cardiac_index  \\\n",
       "patient_id                                                                     \n",
       "30          120.457143  79.957143   72.685714            41.0            2.3   \n",
       "31          143.405405  91.067568   65.500000            52.0            2.8   \n",
       "32          122.557143  90.257143   80.628571            32.0            3.0   \n",
       "33          145.893939  93.863636   79.787879            52.0            4.2   \n",
       "34          130.376812  82.739130   77.913043            48.0            3.2   \n",
       "\n",
       "            systemic_vascular_resistance  \n",
       "patient_id                                \n",
       "30                                1158.0  \n",
       "31                                1417.0  \n",
       "32                                1319.0  \n",
       "33                                1353.0  \n",
       "34                                1172.0  \n",
       "\n",
       "[5 rows x 21 columns]"
      ]
     },
     "execution_count": 5,
     "metadata": {},
     "output_type": "execute_result"
    }
   ],
   "source": [
    "# Lectura de datos\n",
    "datos= pd.read_csv('data/filtered1_dataset.csv', sep=',', index_col=\"patient_id\")\n",
    "datos.head()"
   ]
  },
  {
   "cell_type": "markdown",
   "metadata": {
    "colab_type": "text",
    "id": "MLS2Io6sL_JU"
   },
   "source": [
    "## Variable respuesta\n",
    "\n",
    "La variable objetivo de este estudio es **treatment** la cual indica si el paciente esta o no medicado."
   ]
  },
  {
   "cell_type": "code",
   "execution_count": 7,
   "metadata": {},
   "outputs": [
    {
     "data": {
      "text/plain": [
       "patient_id\n",
       "30     True\n",
       "31    False\n",
       "32     True\n",
       "33    False\n",
       "34     True\n",
       "Name: treatment, dtype: bool"
      ]
     },
     "execution_count": 7,
     "metadata": {},
     "output_type": "execute_result"
    }
   ],
   "source": [
    "# Extraemos la variable respuesta \"treatment\"\n",
    "y = datos[\"treatment\"]\n",
    "y.head()"
   ]
  },
  {
   "cell_type": "code",
   "execution_count": 8,
   "metadata": {},
   "outputs": [
    {
     "data": {
      "text/plain": [
       "(17644,)"
      ]
     },
     "execution_count": 8,
     "metadata": {},
     "output_type": "execute_result"
    }
   ],
   "source": [
    "# Dimensiones variable respuesta\n",
    "np.shape(y)"
   ]
  },
  {
   "cell_type": "code",
   "execution_count": 9,
   "metadata": {},
   "outputs": [
    {
     "name": "stderr",
     "output_type": "stream",
     "text": [
      "/Users/lescobar/.anaconda/lib/python3.7/site-packages/seaborn/categorical.py:3666: UserWarning: The `factorplot` function has been renamed to `catplot`. The original name will be removed in a future release. Please update your code. Note that the default `kind` in `factorplot` (`'point'`) has changed `'strip'` in `catplot`.\n",
      "  warnings.warn(msg)\n"
     ]
    },
    {
     "data": {
      "text/plain": [
       "treatment\n",
       "False    9429\n",
       "True     8215\n",
       "dtype: int64"
      ]
     },
     "execution_count": 9,
     "metadata": {},
     "output_type": "execute_result"
    },
    {
     "data": {
      "image/png": "[encoded data removed]",
      "text/plain": [
       "<Figure size 360x360 with 1 Axes>"
      ]
     },
     "metadata": {},
     "output_type": "display_data"
    }
   ],
   "source": [
    "# Gráfica distribución variable respuesta \n",
    "sns.factorplot('treatment',data=datos,kind=\"count\")\n",
    "datos.groupby('treatment').size()"
   ]
  },
  {
   "cell_type": "markdown",
   "metadata": {},
   "source": [
    "En la gráfica anterior se presenta la frecuencia para cada nivel (valor) de la variable respuesta **treatment** (True - False). Se observa que el 51% de los pacientes no esta medicado (False) y el 49% si esta medicado (True). "
   ]
  },
  {
   "cell_type": "markdown",
   "metadata": {
    "colab_type": "text",
    "id": "MLS2Io6sL_JU"
   },
   "source": [
    "## Variables independientes\n",
    "\n",
    "Las variables independientes son aquellas que se consideran pueden explicar la variable objetivo, es decir, que pueden determinar que un paciente se encuentra o no medicado. Estas variables pueden ser **Categóricas** o **Cuantitavas**."
   ]
  },
  {
   "cell_type": "code",
   "execution_count": 10,
   "metadata": {},
   "outputs": [
    {
     "data": {
      "text/html": [
       "<div>\n",
       "<style scoped>\n",
       "    .dataframe tbody tr th:only-of-type {\n",
       "        vertical-align: middle;\n",
       "    }\n",
       "\n",
       "    .dataframe tbody tr th {\n",
       "        vertical-align: top;\n",
       "    }\n",
       "\n",
       "    .dataframe thead th {\n",
       "        text-align: right;\n",
       "    }\n",
       "</style>\n",
       "<table border=\"1\" class=\"dataframe\">\n",
       "  <thead>\n",
       "    <tr style=\"text-align: right;\">\n",
       "      <th></th>\n",
       "      <th>height</th>\n",
       "      <th>weight</th>\n",
       "      <th>age</th>\n",
       "      <th>smoking</th>\n",
       "      <th>excercise_frecuency</th>\n",
       "      <th>beer</th>\n",
       "      <th>wine</th>\n",
       "      <th>alcohol</th>\n",
       "      <th>strong_licor</th>\n",
       "      <th>sistolic</th>\n",
       "      <th>diastolic</th>\n",
       "      <th>heart_rate</th>\n",
       "      <th>pulse_pressure</th>\n",
       "      <th>cardiac_index</th>\n",
       "      <th>systemic_vascular_resistance</th>\n",
       "    </tr>\n",
       "    <tr>\n",
       "      <th>patient_id</th>\n",
       "      <th></th>\n",
       "      <th></th>\n",
       "      <th></th>\n",
       "      <th></th>\n",
       "      <th></th>\n",
       "      <th></th>\n",
       "      <th></th>\n",
       "      <th></th>\n",
       "      <th></th>\n",
       "      <th></th>\n",
       "      <th></th>\n",
       "      <th></th>\n",
       "      <th></th>\n",
       "      <th></th>\n",
       "      <th></th>\n",
       "    </tr>\n",
       "  </thead>\n",
       "  <tbody>\n",
       "    <tr>\n",
       "      <th>30</th>\n",
       "      <td>1.78</td>\n",
       "      <td>102.0</td>\n",
       "      <td>33.854327</td>\n",
       "      <td>0</td>\n",
       "      <td>5</td>\n",
       "      <td>0</td>\n",
       "      <td>0</td>\n",
       "      <td>1</td>\n",
       "      <td>0</td>\n",
       "      <td>120.457143</td>\n",
       "      <td>79.957143</td>\n",
       "      <td>72.685714</td>\n",
       "      <td>41.0</td>\n",
       "      <td>2.3</td>\n",
       "      <td>1158.0</td>\n",
       "    </tr>\n",
       "    <tr>\n",
       "      <th>31</th>\n",
       "      <td>1.67</td>\n",
       "      <td>82.4</td>\n",
       "      <td>71.064644</td>\n",
       "      <td>0</td>\n",
       "      <td>2</td>\n",
       "      <td>0</td>\n",
       "      <td>0</td>\n",
       "      <td>1</td>\n",
       "      <td>0</td>\n",
       "      <td>143.405405</td>\n",
       "      <td>91.067568</td>\n",
       "      <td>65.500000</td>\n",
       "      <td>52.0</td>\n",
       "      <td>2.8</td>\n",
       "      <td>1417.0</td>\n",
       "    </tr>\n",
       "    <tr>\n",
       "      <th>32</th>\n",
       "      <td>1.70</td>\n",
       "      <td>93.2</td>\n",
       "      <td>57.715030</td>\n",
       "      <td>0</td>\n",
       "      <td>1</td>\n",
       "      <td>0</td>\n",
       "      <td>1</td>\n",
       "      <td>1</td>\n",
       "      <td>0</td>\n",
       "      <td>122.557143</td>\n",
       "      <td>90.257143</td>\n",
       "      <td>80.628571</td>\n",
       "      <td>32.0</td>\n",
       "      <td>3.0</td>\n",
       "      <td>1319.0</td>\n",
       "    </tr>\n",
       "    <tr>\n",
       "      <th>33</th>\n",
       "      <td>1.60</td>\n",
       "      <td>61.3</td>\n",
       "      <td>43.645252</td>\n",
       "      <td>0</td>\n",
       "      <td>1</td>\n",
       "      <td>0</td>\n",
       "      <td>0</td>\n",
       "      <td>0</td>\n",
       "      <td>0</td>\n",
       "      <td>145.893939</td>\n",
       "      <td>93.863636</td>\n",
       "      <td>79.787879</td>\n",
       "      <td>52.0</td>\n",
       "      <td>4.2</td>\n",
       "      <td>1353.0</td>\n",
       "    </tr>\n",
       "    <tr>\n",
       "      <th>34</th>\n",
       "      <td>1.73</td>\n",
       "      <td>72.3</td>\n",
       "      <td>21.350970</td>\n",
       "      <td>0</td>\n",
       "      <td>1</td>\n",
       "      <td>1</td>\n",
       "      <td>0</td>\n",
       "      <td>1</td>\n",
       "      <td>0</td>\n",
       "      <td>130.376812</td>\n",
       "      <td>82.739130</td>\n",
       "      <td>77.913043</td>\n",
       "      <td>48.0</td>\n",
       "      <td>3.2</td>\n",
       "      <td>1172.0</td>\n",
       "    </tr>\n",
       "  </tbody>\n",
       "</table>\n",
       "</div>"
      ],
      "text/plain": [
       "            height  weight        age  smoking  excercise_frecuency  beer  \\\n",
       "patient_id                                                                  \n",
       "30            1.78   102.0  33.854327        0                    5     0   \n",
       "31            1.67    82.4  71.064644        0                    2     0   \n",
       "32            1.70    93.2  57.715030        0                    1     0   \n",
       "33            1.60    61.3  43.645252        0                    1     0   \n",
       "34            1.73    72.3  21.350970        0                    1     1   \n",
       "\n",
       "            wine  alcohol  strong_licor    sistolic  diastolic  heart_rate  \\\n",
       "patient_id                                                                   \n",
       "30             0        1             0  120.457143  79.957143   72.685714   \n",
       "31             0        1             0  143.405405  91.067568   65.500000   \n",
       "32             1        1             0  122.557143  90.257143   80.628571   \n",
       "33             0        0             0  145.893939  93.863636   79.787879   \n",
       "34             0        1             0  130.376812  82.739130   77.913043   \n",
       "\n",
       "            pulse_pressure  cardiac_index  systemic_vascular_resistance  \n",
       "patient_id                                                               \n",
       "30                    41.0            2.3                        1158.0  \n",
       "31                    52.0            2.8                        1417.0  \n",
       "32                    32.0            3.0                        1319.0  \n",
       "33                    52.0            4.2                        1353.0  \n",
       "34                    48.0            3.2                        1172.0  "
      ]
     },
     "execution_count": 10,
     "metadata": {},
     "output_type": "execute_result"
    }
   ],
   "source": [
    "# Extraer las variables independientes \n",
    "X = datos.iloc[:,6:]\n",
    "X.head()"
   ]
  },
  {
   "cell_type": "markdown",
   "metadata": {
    "colab_type": "text",
    "id": "MLS2Io6sL_JU"
   },
   "source": [
    "### Variables categóricas\n",
    "\n",
    "A continuación, se analiza la distribución de aquellas variables que solo pueden tomar un valor de un número limitado de posibles valores. Estas categorías generalmente son nominales, es decir, que no existe entre sus niveles un orden de importancia. Las variables categóricas en nuestra base son dicotómicas, es decir, que solo pueden tomar dos valores posibles, por ejemplo: si o no, hombre o mujer. \n",
    "\n",
    "Las variables analizadas son: **gender, smoking, beer, wine, alcohol y strong_licor**."
   ]
  },
  {
   "cell_type": "code",
   "execution_count": 11,
   "metadata": {},
   "outputs": [
    {
     "name": "stderr",
     "output_type": "stream",
     "text": [
      "/Users/lescobar/.anaconda/lib/python3.7/site-packages/seaborn/categorical.py:3666: UserWarning: The `factorplot` function has been renamed to `catplot`. The original name will be removed in a future release. Please update your code. Note that the default `kind` in `factorplot` (`'point'`) has changed `'strip'` in `catplot`.\n",
      "  warnings.warn(msg)\n"
     ]
    },
    {
     "data": {
      "text/plain": [
       "gender\n",
       "f    9289\n",
       "m    8174\n",
       "dtype: int64"
      ]
     },
     "execution_count": 11,
     "metadata": {},
     "output_type": "execute_result"
    },
    {
     "data": {
      "image/png": "[encoded data removed]",
      "text/plain": [
       "<Figure size 360x360 with 1 Axes>"
      ]
     },
     "metadata": {},
     "output_type": "display_data"
    }
   ],
   "source": [
    "# Distribución variable gender\n",
    "sns.factorplot('gender',data=datos,kind=\"count\")\n",
    "datos.groupby('gender').size()"
   ]
  },
  {
   "cell_type": "markdown",
   "metadata": {},
   "source": [
    "En la gráfica anterior se presenta la frecuencia para cada nivel (valor) de la variable **gender** (Female - Male). Se observa que el 54% de los pacientes son mujeres (Female) y el 46% son hombres (Male)."
   ]
  },
  {
   "cell_type": "code",
   "execution_count": 12,
   "metadata": {},
   "outputs": [
    {
     "data": {
      "text/plain": [
       "smoking\n",
       "0    16627\n",
       "1     1017\n",
       "dtype: int64"
      ]
     },
     "execution_count": 12,
     "metadata": {},
     "output_type": "execute_result"
    },
    {
     "data": {
      "image/png": "[encoded data removed]",
      "text/plain": [
       "<Figure size 360x360 with 1 Axes>"
      ]
     },
     "metadata": {},
     "output_type": "display_data"
    }
   ],
   "source": [
    "# Distribución variable smoking\n",
    "sns.factorplot('smoking',data=datos,kind=\"count\")\n",
    "datos.groupby('smoking').size()"
   ]
  },
  {
   "cell_type": "markdown",
   "metadata": {},
   "source": [
    "En la gráfica anterior se presenta la frecuencia para cada nivel de la variable **smoking** (1 - 0), la cual indica si el paciente fuma o no. Se observa que el 95% de los pacientes no fuman (0) y el 5% (1) si fuman."
   ]
  },
  {
   "cell_type": "code",
   "execution_count": 13,
   "metadata": {},
   "outputs": [
    {
     "data": {
      "text/plain": [
       "beer\n",
       "0    15993\n",
       "1     1651\n",
       "dtype: int64"
      ]
     },
     "execution_count": 13,
     "metadata": {},
     "output_type": "execute_result"
    },
    {
     "data": {
      "image/png": "[encoded data removed]",
      "text/plain": [
       "<Figure size 360x360 with 1 Axes>"
      ]
     },
     "metadata": {},
     "output_type": "display_data"
    }
   ],
   "source": [
    "# Distribución variable beer\n",
    "sns.factorplot('beer',data=datos,kind=\"count\")\n",
    "datos.groupby('beer').size()"
   ]
  },
  {
   "cell_type": "markdown",
   "metadata": {},
   "source": [
    "En la gráfica anterior se presenta la frecuencia para cada nivel de la variable **beer** (1 - 0), la cual indica si el paciente consume cerveza o no. Se observa que el 91% de los pacientes no consumen cerveza (0) y el 9% (1) si consumen cerveza."
   ]
  },
  {
   "cell_type": "code",
   "execution_count": 14,
   "metadata": {},
   "outputs": [
    {
     "data": {
      "text/plain": [
       "wine\n",
       "0    15936\n",
       "1     1708\n",
       "dtype: int64"
      ]
     },
     "execution_count": 14,
     "metadata": {},
     "output_type": "execute_result"
    },
    {
     "data": {
      "image/png": "[encoded data removed]",
      "text/plain": [
       "<Figure size 360x360 with 1 Axes>"
      ]
     },
     "metadata": {},
     "output_type": "display_data"
    }
   ],
   "source": [
    "# Distribución variable wine\n",
    "sns.factorplot('wine',data=datos,kind=\"count\")\n",
    "datos.groupby('wine').size()"
   ]
  },
  {
   "cell_type": "markdown",
   "metadata": {},
   "source": [
    "En la gráfica anterior se presenta la frecuencia para cada nivel de la variable **wine** (1 - 0), la cual indica si el paciente consume vino o no. Se observa que el 91% de los pacientes no consumen vino (0) y el 9% (1) si consumen vino."
   ]
  },
  {
   "cell_type": "code",
   "execution_count": 16,
   "metadata": {},
   "outputs": [
    {
     "data": {
      "text/plain": [
       "alcohol\n",
       "0    12481\n",
       "1     5163\n",
       "dtype: int64"
      ]
     },
     "execution_count": 16,
     "metadata": {},
     "output_type": "execute_result"
    },
    {
     "data": {
      "image/png": "[encoded data removed]",
      "text/plain": [
       "<Figure size 360x360 with 1 Axes>"
      ]
     },
     "metadata": {},
     "output_type": "display_data"
    }
   ],
   "source": [
    "# Distribución variable alcohol\n",
    "sns.factorplot('alcohol',data=datos,kind=\"count\")\n",
    "datos.groupby('alcohol').size()"
   ]
  },
  {
   "cell_type": "markdown",
   "metadata": {},
   "source": [
    "En la gráfica anterior se presenta la frecuencia para cada nivel de la variable **alcohol** (1 - 0), la cual indica si el paciente consume bebidas alcohólicas o no. Se observa que el 72% de los pacientes no consumen bebidas alcohólicas (0) y el 28% (1) si consumen bebidas alcohólicas."
   ]
  },
  {
   "cell_type": "code",
   "execution_count": 17,
   "metadata": {},
   "outputs": [
    {
     "data": {
      "text/plain": [
       "strong_licor\n",
       "0    14651\n",
       "1     2993\n",
       "dtype: int64"
      ]
     },
     "execution_count": 17,
     "metadata": {},
     "output_type": "execute_result"
    },
    {
     "data": {
      "image/png": "[encoded data removed]",
      "text/plain": [
       "<Figure size 360x360 with 1 Axes>"
      ]
     },
     "metadata": {},
     "output_type": "display_data"
    }
   ],
   "source": [
    "# Distribución variable strong_licor\n",
    "sns.factorplot('strong_licor',data=datos,kind=\"count\")\n",
    "datos.groupby('strong_licor').size()"
   ]
  },
  {
   "cell_type": "markdown",
   "metadata": {},
   "source": [
    "En la gráfica anterior se presenta la frecuencia para cada nivel de la variable strong_licor (1 - 0), la cual indica si el paciente consume tragos fuertes o no. Se observa que el 84% de los pacientes no consumen tragos fuertes (0) y el 16% (1) si consumen tragos fuertes."
   ]
  },
  {
   "cell_type": "markdown",
   "metadata": {
    "colab_type": "text",
    "id": "MLS2Io6sL_JU"
   },
   "source": [
    "### Variables cuantitativas\n",
    "\n",
    "A continuación, se analiza la distribución de aquellas variables que pueden tomar como valor una cantidad numérica. Estas variables pueden ser:\n",
    "- Continuas: que toman cualquier valor dentro de un intervalo especifico de valores, por ejemplo: la altura, el peso\n",
    "- Discretas: que la escala de valores que puede tomar presenta separaciones o interrupciones, por ejemplo: el número de hijos\n",
    "\n",
    "Las variables analizadas son: **height, weight, age, sistolic, diastolic, heart_rate, mean_arterial_pressure, pulse_pressure, stroke_volume, cardiac_output, cardiac_index, systemic_vascular_resistance y pulse_wave_velocity**."
   ]
  },
  {
   "cell_type": "code",
   "execution_count": 18,
   "metadata": {},
   "outputs": [
    {
     "name": "stdout",
     "output_type": "stream",
     "text": [
      "Medidas de Tendencia:\n",
      "\n",
      "    Media:1\n",
      "    Desviacion:0\n",
      "    Minimo:1\n",
      "    Percentil 1:1\n",
      "    Percentil 5:1\n",
      "    Percentil 10:1\n",
      "    Mediana: 1\n",
      "    Percentil 90:1\n",
      "    Percentil 95:1\n",
      "    Percentil 99:1\n",
      "    Maximo: 1   \n",
      "\n",
      "Distribución height\n"
     ]
    },
    {
     "data": {
      "image/png": "[encoded data removed]",
      "text/plain": [
       "<Figure size 432x288 with 1 Axes>"
      ]
     },
     "metadata": {},
     "output_type": "display_data"
    }
   ],
   "source": [
    "# Distribución variable height\n",
    "\n",
    "# Medidas de tendencia\n",
    "print('Medidas de Tendencia:')\n",
    "media = X['height'].mean()\n",
    "desviacion = X['height'].std(ddof=0)\n",
    "minimo = X['height'].min()\n",
    "perc1 = X['height'].quantile(q = 0.01) if any(X['height'].notnull()) else float('inf') \n",
    "perc5 = X['height'].quantile(q = 0.05) if any(X['height'].notnull()) else float('inf')\n",
    "perc10 = X['height'].quantile(q = 0.10) if any(X['height'].notnull()) else float('inf')\n",
    "mediana = X['height'].median()\n",
    "perc90 = X['height'].quantile(q = 0.90) if any(X['height'].notnull()) else float('inf')\n",
    "perc95 = X['height'].quantile(q = 0.95) if any(X['height'].notnull()) else float('inf') \n",
    "perc99 = X['height'].quantile(q = 0.99) if any(X['height'].notnull()) else float('inf')\n",
    "maximo = X['height'].max()\n",
    "\n",
    "print(\"\"\"\n",
    "    Media:%d\n",
    "    Desviacion:%d\n",
    "    Minimo:%d\n",
    "    Percentil 1:%d\n",
    "    Percentil 5:%d\n",
    "    Percentil 10:%d\n",
    "    Mediana: %d\n",
    "    Percentil 90:%d\n",
    "    Percentil 95:%d\n",
    "    Percentil 99:%d\n",
    "    Maximo: %d   \n",
    "\"\"\" % (media,desviacion,minimo,perc1,perc5,perc10,mediana,perc90,perc95,perc99,maximo))   \n",
    "\n",
    "# Gráfico\n",
    "sns.set(style = \"whitegrid\")\n",
    "sns.kdeplot(X['height'], shade=True, color=\"r\", legend=False)\n",
    "print('Distribución height')"
   ]
  },
  {
   "cell_type": "code",
   "execution_count": 19,
   "metadata": {},
   "outputs": [
    {
     "name": "stdout",
     "output_type": "stream",
     "text": [
      "Medidas de Tendencia:\n",
      "\n",
      "    Media:74\n",
      "    Desviacion:13\n",
      "    Minimo:36\n",
      "    Percentil 1:48\n",
      "    Percentil 5:54\n",
      "    Percentil 10:57\n",
      "    Mediana: 73\n",
      "    Percentil 90:92\n",
      "    Percentil 95:98\n",
      "    Percentil 99:108\n",
      "    Maximo: 128   \n",
      "\n",
      "Distribución weight\n"
     ]
    },
    {
     "data": {
      "image/png": "[encoded data removed]",
      "text/plain": [
       "<Figure size 432x288 with 1 Axes>"
      ]
     },
     "metadata": {},
     "output_type": "display_data"
    }
   ],
   "source": [
    "# Distribución variable weight\n",
    "\n",
    "# Medidas de tendencia\n",
    "print('Medidas de Tendencia:')\n",
    "media = X['weight'].mean()\n",
    "desviacion = X['weight'].std(ddof=0)\n",
    "minimo = X['weight'].min()\n",
    "perc1 = X['weight'].quantile(q = 0.01) if any(X['weight'].notnull()) else float('inf') \n",
    "perc5 = X['weight'].quantile(q = 0.05) if any(X['weight'].notnull()) else float('inf')\n",
    "perc10 = X['weight'].quantile(q = 0.10) if any(X['weight'].notnull()) else float('inf')\n",
    "mediana = X['weight'].median()\n",
    "perc90 = X['weight'].quantile(q = 0.90) if any(X['weight'].notnull()) else float('inf')\n",
    "perc95 = X['weight'].quantile(q = 0.95) if any(X['weight'].notnull()) else float('inf') \n",
    "perc99 = X['weight'].quantile(q = 0.99) if any(X['weight'].notnull()) else float('inf')\n",
    "maximo = X['weight'].max()\n",
    "\n",
    "print(\"\"\"\n",
    "    Media:%d\n",
    "    Desviacion:%d\n",
    "    Minimo:%d\n",
    "    Percentil 1:%d\n",
    "    Percentil 5:%d\n",
    "    Percentil 10:%d\n",
    "    Mediana: %d\n",
    "    Percentil 90:%d\n",
    "    Percentil 95:%d\n",
    "    Percentil 99:%d\n",
    "    Maximo: %d   \n",
    "\"\"\" % (media,desviacion,minimo,perc1,perc5,perc10,mediana,perc90,perc95,perc99,maximo))   \n",
    "\n",
    "# Gráfico\n",
    "sns.set(style = \"whitegrid\")\n",
    "sns.kdeplot(X['weight'], shade=True, color=\"r\", legend=False)\n",
    "print('Distribución weight')"
   ]
  },
  {
   "cell_type": "code",
   "execution_count": 20,
   "metadata": {},
   "outputs": [
    {
     "name": "stdout",
     "output_type": "stream",
     "text": [
      "Medidas de Tendencia:\n",
      "\n",
      "    Media:53\n",
      "    Desviacion:14\n",
      "    Minimo:16\n",
      "    Percentil 1:21\n",
      "    Percentil 5:29\n",
      "    Percentil 10:34\n",
      "    Mediana: 54\n",
      "    Percentil 90:71\n",
      "    Percentil 95:75\n",
      "    Percentil 99:80\n",
      "    Maximo: 88   \n",
      "\n",
      "Distribución age\n"
     ]
    },
    {
     "data": {
      "image/png": "[encoded data removed]",
      "text/plain": [
       "<Figure size 432x288 with 1 Axes>"
      ]
     },
     "metadata": {},
     "output_type": "display_data"
    }
   ],
   "source": [
    "# Distribución variable age\n",
    "\n",
    "# Medidas de tendencia\n",
    "print('Medidas de Tendencia:')\n",
    "media = X['age'].mean()\n",
    "desviacion = X['age'].std(ddof=0)\n",
    "minimo = X['age'].min()\n",
    "perc1 = X['age'].quantile(q = 0.01) if any(X['age'].notnull()) else float('inf') \n",
    "perc5 = X['age'].quantile(q = 0.05) if any(X['age'].notnull()) else float('inf')\n",
    "perc10 = X['age'].quantile(q = 0.10) if any(X['age'].notnull()) else float('inf')\n",
    "mediana = X['age'].median()\n",
    "perc90 = X['age'].quantile(q = 0.90) if any(X['age'].notnull()) else float('inf')\n",
    "perc95 = X['age'].quantile(q = 0.95) if any(X['age'].notnull()) else float('inf') \n",
    "perc99 = X['age'].quantile(q = 0.99) if any(X['age'].notnull()) else float('inf')\n",
    "maximo = X['age'].max()\n",
    "\n",
    "print(\"\"\"\n",
    "    Media:%d\n",
    "    Desviacion:%d\n",
    "    Minimo:%d\n",
    "    Percentil 1:%d\n",
    "    Percentil 5:%d\n",
    "    Percentil 10:%d\n",
    "    Mediana: %d\n",
    "    Percentil 90:%d\n",
    "    Percentil 95:%d\n",
    "    Percentil 99:%d\n",
    "    Maximo: %d   \n",
    "\"\"\" % (media,desviacion,minimo,perc1,perc5,perc10,mediana,perc90,perc95,perc99,maximo))   \n",
    "\n",
    "# Gráfico\n",
    "sns.set(style = \"whitegrid\")\n",
    "sns.kdeplot(X['age'], shade=True, color=\"r\", legend=False)\n",
    "print('Distribución age')"
   ]
  },
  {
   "cell_type": "code",
   "execution_count": 21,
   "metadata": {},
   "outputs": [
    {
     "name": "stdout",
     "output_type": "stream",
     "text": [
      "Medidas de Tendencia:\n",
      "\n",
      "    Media:128\n",
      "    Desviacion:11\n",
      "    Minimo:87\n",
      "    Percentil 1:104\n",
      "    Percentil 5:110\n",
      "    Percentil 10:114\n",
      "    Mediana: 127\n",
      "    Percentil 90:144\n",
      "    Percentil 95:149\n",
      "    Percentil 99:160\n",
      "    Maximo: 179   \n",
      "\n",
      "Distribución sistolic\n"
     ]
    },
    {
     "data": {
      "image/png": "[encoded data removed]",
      "text/plain": [
       "<Figure size 432x288 with 1 Axes>"
      ]
     },
     "metadata": {},
     "output_type": "display_data"
    }
   ],
   "source": [
    "# Distribución variable sistolic\n",
    "\n",
    "# Medidas de tendencia\n",
    "print('Medidas de Tendencia:')\n",
    "media = X['sistolic'].mean()\n",
    "desviacion = X['sistolic'].std(ddof=0)\n",
    "minimo = X['sistolic'].min()\n",
    "perc1 = X['sistolic'].quantile(q = 0.01) if any(X['sistolic'].notnull()) else float('inf') \n",
    "perc5 = X['sistolic'].quantile(q = 0.05) if any(X['sistolic'].notnull()) else float('inf')\n",
    "perc10 = X['sistolic'].quantile(q = 0.10) if any(X['sistolic'].notnull()) else float('inf')\n",
    "mediana = X['sistolic'].median()\n",
    "perc90 = X['sistolic'].quantile(q = 0.90) if any(X['sistolic'].notnull()) else float('inf')\n",
    "perc95 = X['sistolic'].quantile(q = 0.95) if any(X['sistolic'].notnull()) else float('inf') \n",
    "perc99 = X['sistolic'].quantile(q = 0.99) if any(X['sistolic'].notnull()) else float('inf')\n",
    "maximo = X['sistolic'].max()\n",
    "\n",
    "print(\"\"\"\n",
    "    Media:%d\n",
    "    Desviacion:%d\n",
    "    Minimo:%d\n",
    "    Percentil 1:%d\n",
    "    Percentil 5:%d\n",
    "    Percentil 10:%d\n",
    "    Mediana: %d\n",
    "    Percentil 90:%d\n",
    "    Percentil 95:%d\n",
    "    Percentil 99:%d\n",
    "    Maximo: %d   \n",
    "\"\"\" % (media,desviacion,minimo,perc1,perc5,perc10,mediana,perc90,perc95,perc99,maximo))   \n",
    "\n",
    "# Gráfico\n",
    "sns.set(style = \"whitegrid\")\n",
    "sns.kdeplot(X['sistolic'], shade=True, color=\"r\", legend=False)\n",
    "print('Distribución sistolic')"
   ]
  },
  {
   "cell_type": "code",
   "execution_count": 22,
   "metadata": {},
   "outputs": [
    {
     "name": "stdout",
     "output_type": "stream",
     "text": [
      "Medidas de Tendencia:\n",
      "\n",
      "    Media:82\n",
      "    Desviacion:8\n",
      "    Minimo:48\n",
      "    Percentil 1:63\n",
      "    Percentil 5:69\n",
      "    Percentil 10:72\n",
      "    Mediana: 82\n",
      "    Percentil 90:93\n",
      "    Percentil 95:96\n",
      "    Percentil 99:104\n",
      "    Maximo: 123   \n",
      "\n",
      "Distribución diastolic\n"
     ]
    },
    {
     "data": {
      "image/png": "[encoded data removed]",
      "text/plain": [
       "<Figure size 432x288 with 1 Axes>"
      ]
     },
     "metadata": {},
     "output_type": "display_data"
    }
   ],
   "source": [
    "# Distribución variable diastolic\n",
    "\n",
    "# Medidas de tendencia\n",
    "print('Medidas de Tendencia:')\n",
    "media = X['diastolic'].mean()\n",
    "desviacion = X['diastolic'].std(ddof=0)\n",
    "minimo = X['diastolic'].min()\n",
    "perc1 = X['diastolic'].quantile(q = 0.01) if any(X['diastolic'].notnull()) else float('inf') \n",
    "perc5 = X['diastolic'].quantile(q = 0.05) if any(X['diastolic'].notnull()) else float('inf')\n",
    "perc10 = X['diastolic'].quantile(q = 0.10) if any(X['diastolic'].notnull()) else float('inf')\n",
    "mediana = X['diastolic'].median()\n",
    "perc90 = X['diastolic'].quantile(q = 0.90) if any(X['diastolic'].notnull()) else float('inf')\n",
    "perc95 = X['diastolic'].quantile(q = 0.95) if any(X['diastolic'].notnull()) else float('inf') \n",
    "perc99 = X['diastolic'].quantile(q = 0.99) if any(X['diastolic'].notnull()) else float('inf')\n",
    "maximo = X['diastolic'].max()\n",
    "\n",
    "print(\"\"\"\n",
    "    Media:%d\n",
    "    Desviacion:%d\n",
    "    Minimo:%d\n",
    "    Percentil 1:%d\n",
    "    Percentil 5:%d\n",
    "    Percentil 10:%d\n",
    "    Mediana: %d\n",
    "    Percentil 90:%d\n",
    "    Percentil 95:%d\n",
    "    Percentil 99:%d\n",
    "    Maximo: %d   \n",
    "\"\"\" % (media,desviacion,minimo,perc1,perc5,perc10,mediana,perc90,perc95,perc99,maximo))   \n",
    "\n",
    "# Gráfico\n",
    "sns.set(style = \"whitegrid\")\n",
    "sns.kdeplot(X['diastolic'], shade=True, color=\"r\", legend=False)\n",
    "print('Distribución diastolic')"
   ]
  },
  {
   "cell_type": "code",
   "execution_count": 23,
   "metadata": {},
   "outputs": [
    {
     "name": "stdout",
     "output_type": "stream",
     "text": [
      "Medidas de Tendencia:\n",
      "\n",
      "    Media:74\n",
      "    Desviacion:9\n",
      "    Minimo:48\n",
      "    Percentil 1:54\n",
      "    Percentil 5:59\n",
      "    Percentil 10:62\n",
      "    Mediana: 73\n",
      "    Percentil 90:86\n",
      "    Percentil 95:89\n",
      "    Percentil 99:96\n",
      "    Maximo: 106   \n",
      "\n",
      "Distribución heart_rate\n"
     ]
    },
    {
     "data": {
      "image/png": "[encoded data removed]",
      "text/plain": [
       "<Figure size 432x288 with 1 Axes>"
      ]
     },
     "metadata": {},
     "output_type": "display_data"
    }
   ],
   "source": [
    "# Distribución variable heart_rate\n",
    "\n",
    "# Medidas de tendencia\n",
    "print('Medidas de Tendencia:')\n",
    "media = X['heart_rate'].mean()\n",
    "desviacion = X['heart_rate'].std(ddof=0)\n",
    "minimo = X['heart_rate'].min()\n",
    "perc1 = X['heart_rate'].quantile(q = 0.01) if any(X['heart_rate'].notnull()) else float('inf') \n",
    "perc5 = X['heart_rate'].quantile(q = 0.05) if any(X['heart_rate'].notnull()) else float('inf')\n",
    "perc10 = X['heart_rate'].quantile(q = 0.10) if any(X['heart_rate'].notnull()) else float('inf')\n",
    "mediana = X['heart_rate'].median()\n",
    "perc90 = X['heart_rate'].quantile(q = 0.90) if any(X['heart_rate'].notnull()) else float('inf')\n",
    "perc95 = X['heart_rate'].quantile(q = 0.95) if any(X['heart_rate'].notnull()) else float('inf') \n",
    "perc99 = X['heart_rate'].quantile(q = 0.99) if any(X['heart_rate'].notnull()) else float('inf')\n",
    "maximo = X['heart_rate'].max()\n",
    "\n",
    "print(\"\"\"\n",
    "    Media:%d\n",
    "    Desviacion:%d\n",
    "    Minimo:%d\n",
    "    Percentil 1:%d\n",
    "    Percentil 5:%d\n",
    "    Percentil 10:%d\n",
    "    Mediana: %d\n",
    "    Percentil 90:%d\n",
    "    Percentil 95:%d\n",
    "    Percentil 99:%d\n",
    "    Maximo: %d   \n",
    "\"\"\" % (media,desviacion,minimo,perc1,perc5,perc10,mediana,perc90,perc95,perc99,maximo))   \n",
    "\n",
    "# Gráfico\n",
    "sns.set(style = \"whitegrid\")\n",
    "sns.kdeplot(X['heart_rate'], shade=True, color=\"r\", legend=False)\n",
    "print('Distribución heart_rate')"
   ]
  },
  {
   "cell_type": "code",
   "execution_count": 25,
   "metadata": {},
   "outputs": [
    {
     "name": "stdout",
     "output_type": "stream",
     "text": [
      "Medidas de Tendencia:\n",
      "\n",
      "    Media:46\n",
      "    Desviacion:7\n",
      "    Minimo:25\n",
      "    Percentil 1:32\n",
      "    Percentil 5:35\n",
      "    Percentil 10:37\n",
      "    Mediana: 45\n",
      "    Percentil 90:57\n",
      "    Percentil 95:61\n",
      "    Percentil 99:70\n",
      "    Maximo: 82   \n",
      "\n",
      "Distribución pulse_pressure\n"
     ]
    },
    {
     "data": {
      "image/png": "[encoded data removed]",
      "text/plain": [
       "<Figure size 432x288 with 1 Axes>"
      ]
     },
     "metadata": {},
     "output_type": "display_data"
    }
   ],
   "source": [
    "# Distribución variable pulse_pressure\n",
    "\n",
    "# Medidas de tendencia\n",
    "print('Medidas de Tendencia:')\n",
    "media = X['pulse_pressure'].mean()\n",
    "desviacion = X['pulse_pressure'].std(ddof=0)\n",
    "minimo = X['pulse_pressure'].min()\n",
    "perc1 = X['pulse_pressure'].quantile(q = 0.01) if any(X['pulse_pressure'].notnull()) else float('inf') \n",
    "perc5 = X['pulse_pressure'].quantile(q = 0.05) if any(X['pulse_pressure'].notnull()) else float('inf')\n",
    "perc10 = X['pulse_pressure'].quantile(q = 0.10) if any(X['pulse_pressure'].notnull()) else float('inf')\n",
    "mediana = X['pulse_pressure'].median()\n",
    "perc90 = X['pulse_pressure'].quantile(q = 0.90) if any(X['pulse_pressure'].notnull()) else float('inf')\n",
    "perc95 = X['pulse_pressure'].quantile(q = 0.95) if any(X['pulse_pressure'].notnull()) else float('inf') \n",
    "perc99 = X['pulse_pressure'].quantile(q = 0.99) if any(X['pulse_pressure'].notnull()) else float('inf')\n",
    "maximo = X['pulse_pressure'].max()\n",
    "\n",
    "print(\"\"\"\n",
    "    Media:%d\n",
    "    Desviacion:%d\n",
    "    Minimo:%d\n",
    "    Percentil 1:%d\n",
    "    Percentil 5:%d\n",
    "    Percentil 10:%d\n",
    "    Mediana: %d\n",
    "    Percentil 90:%d\n",
    "    Percentil 95:%d\n",
    "    Percentil 99:%d\n",
    "    Maximo: %d   \n",
    "\"\"\" % (media,desviacion,minimo,perc1,perc5,perc10,mediana,perc90,perc95,perc99,maximo))   \n",
    "\n",
    "# Gráfico\n",
    "sns.set(style = \"whitegrid\")\n",
    "sns.kdeplot(X['pulse_pressure'], shade=True, color=\"r\", legend=False)\n",
    "print('Distribución pulse_pressure')"
   ]
  },
  {
   "cell_type": "code",
   "execution_count": 26,
   "metadata": {},
   "outputs": [
    {
     "name": "stdout",
     "output_type": "stream",
     "text": [
      "Medidas de Tendencia:\n",
      "\n",
      "    Media:3\n",
      "    Desviacion:0\n",
      "    Minimo:1\n",
      "    Percentil 1:2\n",
      "    Percentil 5:2\n",
      "    Percentil 10:2\n",
      "    Mediana: 3\n",
      "    Percentil 90:4\n",
      "    Percentil 95:4\n",
      "    Percentil 99:4\n",
      "    Maximo: 5   \n",
      "\n",
      "Distribución cardiac_index\n"
     ]
    },
    {
     "data": {
      "image/png": "[encoded data removed]",
      "text/plain": [
       "<Figure size 432x288 with 1 Axes>"
      ]
     },
     "metadata": {},
     "output_type": "display_data"
    }
   ],
   "source": [
    "# Distribución variable cardiac_index\n",
    "\n",
    "# Medidas de tendencia\n",
    "print('Medidas de Tendencia:')\n",
    "media = X['cardiac_index'].mean()\n",
    "desviacion = X['cardiac_index'].std(ddof=0)\n",
    "minimo = X['cardiac_index'].min()\n",
    "perc1 = X['cardiac_index'].quantile(q = 0.01) if any(X['cardiac_index'].notnull()) else float('inf') \n",
    "perc5 = X['cardiac_index'].quantile(q = 0.05) if any(X['cardiac_index'].notnull()) else float('inf')\n",
    "perc10 = X['cardiac_index'].quantile(q = 0.10) if any(X['cardiac_index'].notnull()) else float('inf')\n",
    "mediana = X['cardiac_index'].median()\n",
    "perc90 = X['cardiac_index'].quantile(q = 0.90) if any(X['cardiac_index'].notnull()) else float('inf')\n",
    "perc95 = X['cardiac_index'].quantile(q = 0.95) if any(X['cardiac_index'].notnull()) else float('inf') \n",
    "perc99 = X['cardiac_index'].quantile(q = 0.99) if any(X['cardiac_index'].notnull()) else float('inf')\n",
    "maximo = X['cardiac_index'].max()\n",
    "\n",
    "print(\"\"\"\n",
    "    Media:%d\n",
    "    Desviacion:%d\n",
    "    Minimo:%d\n",
    "    Percentil 1:%d\n",
    "    Percentil 5:%d\n",
    "    Percentil 10:%d\n",
    "    Mediana: %d\n",
    "    Percentil 90:%d\n",
    "    Percentil 95:%d\n",
    "    Percentil 99:%d\n",
    "    Maximo: %d   \n",
    "\"\"\" % (media,desviacion,minimo,perc1,perc5,perc10,mediana,perc90,perc95,perc99,maximo))   \n",
    "\n",
    "# Gráfico\n",
    "sns.set(style = \"whitegrid\")\n",
    "sns.kdeplot(X['cardiac_index'], shade=True, color=\"r\", legend=False)\n",
    "print('Distribución cardiac_index')"
   ]
  },
  {
   "cell_type": "code",
   "execution_count": 27,
   "metadata": {},
   "outputs": [
    {
     "name": "stdout",
     "output_type": "stream",
     "text": [
      "Medidas de Tendencia:\n",
      "\n",
      "    Media:1274\n",
      "    Desviacion:73\n",
      "    Minimo:984\n",
      "    Percentil 1:1096\n",
      "    Percentil 5:1149\n",
      "    Percentil 10:1179\n",
      "    Mediana: 1277\n",
      "    Percentil 90:1366\n",
      "    Percentil 95:1393\n",
      "    Percentil 99:1445\n",
      "    Maximo: 1581   \n",
      "\n",
      "Distribución systemic_vascular_resistance\n"
     ]
    },
    {
     "data": {
      "image/png": "[encoded data removed]",
      "text/plain": [
       "<Figure size 432x288 with 1 Axes>"
      ]
     },
     "metadata": {},
     "output_type": "display_data"
    }
   ],
   "source": [
    "# Distribución variable systemic_vascular_resistance\n",
    "\n",
    "# Medidas de tendencia\n",
    "print('Medidas de Tendencia:')\n",
    "media = X['systemic_vascular_resistance'].mean()\n",
    "desviacion = X['systemic_vascular_resistance'].std(ddof=0)\n",
    "minimo = X['systemic_vascular_resistance'].min()\n",
    "perc1 = X['systemic_vascular_resistance'].quantile(q = 0.01) if any(X['systemic_vascular_resistance'].notnull()) else float('inf') \n",
    "perc5 = X['systemic_vascular_resistance'].quantile(q = 0.05) if any(X['systemic_vascular_resistance'].notnull()) else float('inf')\n",
    "perc10 = X['systemic_vascular_resistance'].quantile(q = 0.10) if any(X['systemic_vascular_resistance'].notnull()) else float('inf')\n",
    "mediana = X['systemic_vascular_resistance'].median()\n",
    "perc90 = X['systemic_vascular_resistance'].quantile(q = 0.90) if any(X['systemic_vascular_resistance'].notnull()) else float('inf')\n",
    "perc95 = X['systemic_vascular_resistance'].quantile(q = 0.95) if any(X['systemic_vascular_resistance'].notnull()) else float('inf') \n",
    "perc99 = X['systemic_vascular_resistance'].quantile(q = 0.99) if any(X['systemic_vascular_resistance'].notnull()) else float('inf')\n",
    "maximo = X['systemic_vascular_resistance'].max()\n",
    "\n",
    "print(\"\"\"\n",
    "    Media:%d\n",
    "    Desviacion:%d\n",
    "    Minimo:%d\n",
    "    Percentil 1:%d\n",
    "    Percentil 5:%d\n",
    "    Percentil 10:%d\n",
    "    Mediana: %d\n",
    "    Percentil 90:%d\n",
    "    Percentil 95:%d\n",
    "    Percentil 99:%d\n",
    "    Maximo: %d   \n",
    "\"\"\" % (media,desviacion,minimo,perc1,perc5,perc10,mediana,perc90,perc95,perc99,maximo))   \n",
    "\n",
    "# Gráfico\n",
    "sns.set(style = \"whitegrid\")\n",
    "sns.kdeplot(X['systemic_vascular_resistance'], shade=True, color=\"r\", legend=False)\n",
    "print('Distribución systemic_vascular_resistance')"
   ]
  }
 ],
 "metadata": {
  "colab": {
   "collapsed_sections": [],
   "name": "Taller1.ipynb",
   "provenance": [],
   "toc_visible": true
  },
  "kernelspec": {
   "display_name": "Python 3",
   "language": "python",
   "name": "python3"
  },
  "language_info": {
   "codemirror_mode": {
    "name": "ipython",
    "version": 3
   },
   "file_extension": ".py",
   "mimetype": "text/x-python",
   "name": "python",
   "nbconvert_exporter": "python",
   "pygments_lexer": "ipython3",
   "version": "3.7.7"
  }
 },
 "nbformat": 4,
 "nbformat_minor": 4
}
